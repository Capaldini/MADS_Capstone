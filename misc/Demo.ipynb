{
 "cells": [
  {
   "cell_type": "markdown",
   "metadata": {},
   "source": [
    "# Demo of model with an example"
   ]
  },
  {
   "cell_type": "code",
   "execution_count": 1,
   "metadata": {},
   "outputs": [],
   "source": [
    "import pandas as pd"
   ]
  },
  {
   "cell_type": "code",
   "execution_count": 2,
   "metadata": {},
   "outputs": [],
   "source": [
    "with open ('05_how-to-do-a-standup.en.txt') as f:\n",
    "    #data = f.readlines()\n",
    "    new_line = f.read().replace('\\n',' ')"
   ]
  },
  {
   "cell_type": "code",
   "execution_count": 3,
   "metadata": {},
   "outputs": [],
   "source": [
    "new_line = [new_line]"
   ]
  },
  {
   "cell_type": "code",
   "execution_count": 67,
   "metadata": {},
   "outputs": [],
   "source": [
    "df = pd.DataFrame(new_line,columns=['transcripts'])"
   ]
  },
  {
   "cell_type": "markdown",
   "metadata": {},
   "source": [
    "## Modeling"
   ]
  },
  {
   "cell_type": "code",
   "execution_count": 5,
   "metadata": {
    "collapsed": true
   },
   "outputs": [
    {
     "name": "stdout",
     "output_type": "stream",
     "text": [
      "Requirement already satisfied: keyphrase-vectorizers in /Users/zhouwei/opt/anaconda3/envs/nlp_env/lib/python3.8/site-packages (0.0.10)\n",
      "Requirement already satisfied: nltk>=3.6.1 in /Users/zhouwei/opt/anaconda3/envs/nlp_env/lib/python3.8/site-packages (from keyphrase-vectorizers) (3.7)\n",
      "Requirement already satisfied: scipy>=1.7.3 in /Users/zhouwei/opt/anaconda3/envs/nlp_env/lib/python3.8/site-packages (from keyphrase-vectorizers) (1.8.1)\n",
      "Requirement already satisfied: psutil>=5.8.0 in /Users/zhouwei/opt/anaconda3/envs/nlp_env/lib/python3.8/site-packages (from keyphrase-vectorizers) (5.9.1)\n",
      "Requirement already satisfied: numpy>=1.18.5 in /Users/zhouwei/opt/anaconda3/envs/nlp_env/lib/python3.8/site-packages (from keyphrase-vectorizers) (1.23.1)\n",
      "Requirement already satisfied: scikit-learn>=1.0 in /Users/zhouwei/opt/anaconda3/envs/nlp_env/lib/python3.8/site-packages (from keyphrase-vectorizers) (1.1.1)\n",
      "Requirement already satisfied: spacy-transformers>=1.1.6 in /Users/zhouwei/opt/anaconda3/envs/nlp_env/lib/python3.8/site-packages (from keyphrase-vectorizers) (1.1.7)\n",
      "Requirement already satisfied: spacy>=3.0.1 in /Users/zhouwei/opt/anaconda3/envs/nlp_env/lib/python3.8/site-packages (from keyphrase-vectorizers) (3.4.1)\n",
      "Requirement already satisfied: click in /Users/zhouwei/opt/anaconda3/envs/nlp_env/lib/python3.8/site-packages (from nltk>=3.6.1->keyphrase-vectorizers) (8.1.3)\n",
      "Requirement already satisfied: joblib in /Users/zhouwei/opt/anaconda3/envs/nlp_env/lib/python3.8/site-packages (from nltk>=3.6.1->keyphrase-vectorizers) (1.1.0)\n",
      "Requirement already satisfied: regex>=2021.8.3 in /Users/zhouwei/opt/anaconda3/envs/nlp_env/lib/python3.8/site-packages (from nltk>=3.6.1->keyphrase-vectorizers) (2022.7.25)\n",
      "Requirement already satisfied: tqdm in /Users/zhouwei/opt/anaconda3/envs/nlp_env/lib/python3.8/site-packages (from nltk>=3.6.1->keyphrase-vectorizers) (4.64.0)\n",
      "Requirement already satisfied: threadpoolctl>=2.0.0 in /Users/zhouwei/opt/anaconda3/envs/nlp_env/lib/python3.8/site-packages (from scikit-learn>=1.0->keyphrase-vectorizers) (3.1.0)\n",
      "Requirement already satisfied: langcodes<4.0.0,>=3.2.0 in /Users/zhouwei/opt/anaconda3/envs/nlp_env/lib/python3.8/site-packages (from spacy>=3.0.1->keyphrase-vectorizers) (3.3.0)\n",
      "Requirement already satisfied: packaging>=20.0 in /Users/zhouwei/opt/anaconda3/envs/nlp_env/lib/python3.8/site-packages (from spacy>=3.0.1->keyphrase-vectorizers) (21.3)\n",
      "Requirement already satisfied: catalogue<2.1.0,>=2.0.6 in /Users/zhouwei/opt/anaconda3/envs/nlp_env/lib/python3.8/site-packages (from spacy>=3.0.1->keyphrase-vectorizers) (2.0.8)\n",
      "Requirement already satisfied: preshed<3.1.0,>=3.0.2 in /Users/zhouwei/opt/anaconda3/envs/nlp_env/lib/python3.8/site-packages (from spacy>=3.0.1->keyphrase-vectorizers) (3.0.6)\n",
      "Requirement already satisfied: jinja2 in /Users/zhouwei/opt/anaconda3/envs/nlp_env/lib/python3.8/site-packages (from spacy>=3.0.1->keyphrase-vectorizers) (3.1.2)\n",
      "Requirement already satisfied: pydantic!=1.8,!=1.8.1,<1.10.0,>=1.7.4 in /Users/zhouwei/opt/anaconda3/envs/nlp_env/lib/python3.8/site-packages (from spacy>=3.0.1->keyphrase-vectorizers) (1.9.1)\n",
      "Requirement already satisfied: pathy>=0.3.5 in /Users/zhouwei/opt/anaconda3/envs/nlp_env/lib/python3.8/site-packages (from spacy>=3.0.1->keyphrase-vectorizers) (0.6.2)\n",
      "Requirement already satisfied: murmurhash<1.1.0,>=0.28.0 in /Users/zhouwei/opt/anaconda3/envs/nlp_env/lib/python3.8/site-packages (from spacy>=3.0.1->keyphrase-vectorizers) (1.0.7)\n",
      "Requirement already satisfied: setuptools in /Users/zhouwei/opt/anaconda3/envs/nlp_env/lib/python3.8/site-packages (from spacy>=3.0.1->keyphrase-vectorizers) (63.2.0)\n",
      "Requirement already satisfied: srsly<3.0.0,>=2.4.3 in /Users/zhouwei/opt/anaconda3/envs/nlp_env/lib/python3.8/site-packages (from spacy>=3.0.1->keyphrase-vectorizers) (2.4.4)\n",
      "Requirement already satisfied: wasabi<1.1.0,>=0.9.1 in /Users/zhouwei/opt/anaconda3/envs/nlp_env/lib/python3.8/site-packages (from spacy>=3.0.1->keyphrase-vectorizers) (0.10.0)\n",
      "Requirement already satisfied: spacy-loggers<2.0.0,>=1.0.0 in /Users/zhouwei/opt/anaconda3/envs/nlp_env/lib/python3.8/site-packages (from spacy>=3.0.1->keyphrase-vectorizers) (1.0.3)\n",
      "Requirement already satisfied: typer<0.5.0,>=0.3.0 in /Users/zhouwei/opt/anaconda3/envs/nlp_env/lib/python3.8/site-packages (from spacy>=3.0.1->keyphrase-vectorizers) (0.4.2)\n",
      "Requirement already satisfied: requests<3.0.0,>=2.13.0 in /Users/zhouwei/opt/anaconda3/envs/nlp_env/lib/python3.8/site-packages (from spacy>=3.0.1->keyphrase-vectorizers) (2.28.1)\n",
      "Requirement already satisfied: spacy-legacy<3.1.0,>=3.0.9 in /Users/zhouwei/opt/anaconda3/envs/nlp_env/lib/python3.8/site-packages (from spacy>=3.0.1->keyphrase-vectorizers) (3.0.9)\n",
      "Requirement already satisfied: cymem<2.1.0,>=2.0.2 in /Users/zhouwei/opt/anaconda3/envs/nlp_env/lib/python3.8/site-packages (from spacy>=3.0.1->keyphrase-vectorizers) (2.0.6)\n",
      "Requirement already satisfied: thinc<8.2.0,>=8.1.0 in /Users/zhouwei/opt/anaconda3/envs/nlp_env/lib/python3.8/site-packages (from spacy>=3.0.1->keyphrase-vectorizers) (8.1.0)\n",
      "Requirement already satisfied: spacy-alignments<1.0.0,>=0.7.2 in /Users/zhouwei/opt/anaconda3/envs/nlp_env/lib/python3.8/site-packages (from spacy-transformers>=1.1.6->keyphrase-vectorizers) (0.8.5)\n",
      "Requirement already satisfied: transformers<4.21.0,>=3.4.0 in /Users/zhouwei/opt/anaconda3/envs/nlp_env/lib/python3.8/site-packages (from spacy-transformers>=1.1.6->keyphrase-vectorizers) (4.20.1)\n",
      "Requirement already satisfied: torch>=1.6.0 in /Users/zhouwei/opt/anaconda3/envs/nlp_env/lib/python3.8/site-packages (from spacy-transformers>=1.1.6->keyphrase-vectorizers) (1.12.0)\n",
      "Requirement already satisfied: pyparsing!=3.0.5,>=2.0.2 in /Users/zhouwei/opt/anaconda3/envs/nlp_env/lib/python3.8/site-packages (from packaging>=20.0->spacy>=3.0.1->keyphrase-vectorizers) (3.0.9)\n",
      "Requirement already satisfied: smart-open<6.0.0,>=5.2.1 in /Users/zhouwei/opt/anaconda3/envs/nlp_env/lib/python3.8/site-packages (from pathy>=0.3.5->spacy>=3.0.1->keyphrase-vectorizers) (5.2.1)\n",
      "Requirement already satisfied: typing-extensions>=3.7.4.3 in /Users/zhouwei/opt/anaconda3/envs/nlp_env/lib/python3.8/site-packages (from pydantic!=1.8,!=1.8.1,<1.10.0,>=1.7.4->spacy>=3.0.1->keyphrase-vectorizers) (4.3.0)\n",
      "Requirement already satisfied: charset-normalizer<3,>=2 in /Users/zhouwei/opt/anaconda3/envs/nlp_env/lib/python3.8/site-packages (from requests<3.0.0,>=2.13.0->spacy>=3.0.1->keyphrase-vectorizers) (2.1.0)\n",
      "Requirement already satisfied: urllib3<1.27,>=1.21.1 in /Users/zhouwei/opt/anaconda3/envs/nlp_env/lib/python3.8/site-packages (from requests<3.0.0,>=2.13.0->spacy>=3.0.1->keyphrase-vectorizers) (1.26.11)\n",
      "Requirement already satisfied: idna<4,>=2.5 in /Users/zhouwei/opt/anaconda3/envs/nlp_env/lib/python3.8/site-packages (from requests<3.0.0,>=2.13.0->spacy>=3.0.1->keyphrase-vectorizers) (3.3)\n",
      "Requirement already satisfied: certifi>=2017.4.17 in /Users/zhouwei/opt/anaconda3/envs/nlp_env/lib/python3.8/site-packages (from requests<3.0.0,>=2.13.0->spacy>=3.0.1->keyphrase-vectorizers) (2022.6.15)\n",
      "Requirement already satisfied: blis<0.8.0,>=0.7.8 in /Users/zhouwei/opt/anaconda3/envs/nlp_env/lib/python3.8/site-packages (from thinc<8.2.0,>=8.1.0->spacy>=3.0.1->keyphrase-vectorizers) (0.7.8)\n",
      "Requirement already satisfied: huggingface-hub<1.0,>=0.1.0 in /Users/zhouwei/opt/anaconda3/envs/nlp_env/lib/python3.8/site-packages (from transformers<4.21.0,>=3.4.0->spacy-transformers>=1.1.6->keyphrase-vectorizers) (0.8.1)\n",
      "Requirement already satisfied: filelock in /Users/zhouwei/opt/anaconda3/envs/nlp_env/lib/python3.8/site-packages (from transformers<4.21.0,>=3.4.0->spacy-transformers>=1.1.6->keyphrase-vectorizers) (3.7.1)\n",
      "Requirement already satisfied: tokenizers!=0.11.3,<0.13,>=0.11.1 in /Users/zhouwei/opt/anaconda3/envs/nlp_env/lib/python3.8/site-packages (from transformers<4.21.0,>=3.4.0->spacy-transformers>=1.1.6->keyphrase-vectorizers) (0.12.1)\n",
      "Requirement already satisfied: pyyaml>=5.1 in /Users/zhouwei/opt/anaconda3/envs/nlp_env/lib/python3.8/site-packages (from transformers<4.21.0,>=3.4.0->spacy-transformers>=1.1.6->keyphrase-vectorizers) (6.0)\n",
      "Requirement already satisfied: MarkupSafe>=2.0 in /Users/zhouwei/opt/anaconda3/envs/nlp_env/lib/python3.8/site-packages (from jinja2->spacy>=3.0.1->keyphrase-vectorizers) (2.1.1)\n"
     ]
    },
    {
     "name": "stdout",
     "output_type": "stream",
     "text": [
      "\n",
      "\u001b[1m[\u001b[0m\u001b[34;49mnotice\u001b[0m\u001b[1;39;49m]\u001b[0m\u001b[39;49m A new release of pip available: \u001b[0m\u001b[31;49m22.2\u001b[0m\u001b[39;49m -> \u001b[0m\u001b[32;49m22.2.2\u001b[0m\n",
      "\u001b[1m[\u001b[0m\u001b[34;49mnotice\u001b[0m\u001b[1;39;49m]\u001b[0m\u001b[39;49m To update, run: \u001b[0m\u001b[32;49m/Users/zhouwei/opt/anaconda3/envs/nlp_env/bin/python -m pip install --upgrade pip\u001b[0m\n",
      "Note: you may need to restart the kernel to use updated packages.\n"
     ]
    }
   ],
   "source": [
    "pip install keyphrase-vectorizers"
   ]
  },
  {
   "cell_type": "code",
   "execution_count": 6,
   "metadata": {
    "collapsed": true
   },
   "outputs": [
    {
     "name": "stdout",
     "output_type": "stream",
     "text": [
      "Requirement already satisfied: keybert in /Users/zhouwei/opt/anaconda3/envs/nlp_env/lib/python3.8/site-packages (0.6.0)\n",
      "Requirement already satisfied: scikit-learn>=0.22.2 in /Users/zhouwei/opt/anaconda3/envs/nlp_env/lib/python3.8/site-packages (from keybert) (1.1.1)\n",
      "Requirement already satisfied: rich>=10.4.0 in /Users/zhouwei/opt/anaconda3/envs/nlp_env/lib/python3.8/site-packages (from keybert) (12.5.1)\n",
      "Requirement already satisfied: numpy>=1.18.5 in /Users/zhouwei/opt/anaconda3/envs/nlp_env/lib/python3.8/site-packages (from keybert) (1.23.1)\n",
      "Requirement already satisfied: sentence-transformers>=0.3.8 in /Users/zhouwei/opt/anaconda3/envs/nlp_env/lib/python3.8/site-packages (from keybert) (2.2.2)\n",
      "Requirement already satisfied: pygments<3.0.0,>=2.6.0 in /Users/zhouwei/opt/anaconda3/envs/nlp_env/lib/python3.8/site-packages (from rich>=10.4.0->keybert) (2.11.2)\n",
      "Requirement already satisfied: commonmark<0.10.0,>=0.9.0 in /Users/zhouwei/opt/anaconda3/envs/nlp_env/lib/python3.8/site-packages (from rich>=10.4.0->keybert) (0.9.1)\n",
      "Requirement already satisfied: typing-extensions<5.0,>=4.0.0 in /Users/zhouwei/opt/anaconda3/envs/nlp_env/lib/python3.8/site-packages (from rich>=10.4.0->keybert) (4.3.0)\n",
      "Requirement already satisfied: joblib>=1.0.0 in /Users/zhouwei/opt/anaconda3/envs/nlp_env/lib/python3.8/site-packages (from scikit-learn>=0.22.2->keybert) (1.1.0)\n",
      "Requirement already satisfied: threadpoolctl>=2.0.0 in /Users/zhouwei/opt/anaconda3/envs/nlp_env/lib/python3.8/site-packages (from scikit-learn>=0.22.2->keybert) (3.1.0)\n",
      "Requirement already satisfied: scipy>=1.3.2 in /Users/zhouwei/opt/anaconda3/envs/nlp_env/lib/python3.8/site-packages (from scikit-learn>=0.22.2->keybert) (1.8.1)\n",
      "Requirement already satisfied: torch>=1.6.0 in /Users/zhouwei/opt/anaconda3/envs/nlp_env/lib/python3.8/site-packages (from sentence-transformers>=0.3.8->keybert) (1.12.0)\n",
      "Requirement already satisfied: tqdm in /Users/zhouwei/opt/anaconda3/envs/nlp_env/lib/python3.8/site-packages (from sentence-transformers>=0.3.8->keybert) (4.64.0)\n",
      "Requirement already satisfied: huggingface-hub>=0.4.0 in /Users/zhouwei/opt/anaconda3/envs/nlp_env/lib/python3.8/site-packages (from sentence-transformers>=0.3.8->keybert) (0.8.1)\n",
      "Requirement already satisfied: torchvision in /Users/zhouwei/opt/anaconda3/envs/nlp_env/lib/python3.8/site-packages (from sentence-transformers>=0.3.8->keybert) (0.13.0)\n",
      "Requirement already satisfied: sentencepiece in /Users/zhouwei/opt/anaconda3/envs/nlp_env/lib/python3.8/site-packages (from sentence-transformers>=0.3.8->keybert) (0.1.96)\n",
      "Requirement already satisfied: transformers<5.0.0,>=4.6.0 in /Users/zhouwei/opt/anaconda3/envs/nlp_env/lib/python3.8/site-packages (from sentence-transformers>=0.3.8->keybert) (4.20.1)\n",
      "Requirement already satisfied: nltk in /Users/zhouwei/opt/anaconda3/envs/nlp_env/lib/python3.8/site-packages (from sentence-transformers>=0.3.8->keybert) (3.7)\n",
      "Requirement already satisfied: packaging>=20.9 in /Users/zhouwei/opt/anaconda3/envs/nlp_env/lib/python3.8/site-packages (from huggingface-hub>=0.4.0->sentence-transformers>=0.3.8->keybert) (21.3)\n",
      "Requirement already satisfied: requests in /Users/zhouwei/opt/anaconda3/envs/nlp_env/lib/python3.8/site-packages (from huggingface-hub>=0.4.0->sentence-transformers>=0.3.8->keybert) (2.28.1)\n",
      "Requirement already satisfied: pyyaml>=5.1 in /Users/zhouwei/opt/anaconda3/envs/nlp_env/lib/python3.8/site-packages (from huggingface-hub>=0.4.0->sentence-transformers>=0.3.8->keybert) (6.0)\n",
      "Requirement already satisfied: filelock in /Users/zhouwei/opt/anaconda3/envs/nlp_env/lib/python3.8/site-packages (from huggingface-hub>=0.4.0->sentence-transformers>=0.3.8->keybert) (3.7.1)\n",
      "Requirement already satisfied: regex!=2019.12.17 in /Users/zhouwei/opt/anaconda3/envs/nlp_env/lib/python3.8/site-packages (from transformers<5.0.0,>=4.6.0->sentence-transformers>=0.3.8->keybert) (2022.7.25)\n",
      "Requirement already satisfied: tokenizers!=0.11.3,<0.13,>=0.11.1 in /Users/zhouwei/opt/anaconda3/envs/nlp_env/lib/python3.8/site-packages (from transformers<5.0.0,>=4.6.0->sentence-transformers>=0.3.8->keybert) (0.12.1)\n",
      "Requirement already satisfied: click in /Users/zhouwei/opt/anaconda3/envs/nlp_env/lib/python3.8/site-packages (from nltk->sentence-transformers>=0.3.8->keybert) (8.1.3)\n",
      "Requirement already satisfied: pillow!=8.3.*,>=5.3.0 in /Users/zhouwei/opt/anaconda3/envs/nlp_env/lib/python3.8/site-packages (from torchvision->sentence-transformers>=0.3.8->keybert) (9.2.0)\n",
      "Requirement already satisfied: pyparsing!=3.0.5,>=2.0.2 in /Users/zhouwei/opt/anaconda3/envs/nlp_env/lib/python3.8/site-packages (from packaging>=20.9->huggingface-hub>=0.4.0->sentence-transformers>=0.3.8->keybert) (3.0.9)\n",
      "Requirement already satisfied: charset-normalizer<3,>=2 in /Users/zhouwei/opt/anaconda3/envs/nlp_env/lib/python3.8/site-packages (from requests->huggingface-hub>=0.4.0->sentence-transformers>=0.3.8->keybert) (2.1.0)\n",
      "Requirement already satisfied: idna<4,>=2.5 in /Users/zhouwei/opt/anaconda3/envs/nlp_env/lib/python3.8/site-packages (from requests->huggingface-hub>=0.4.0->sentence-transformers>=0.3.8->keybert) (3.3)\n",
      "Requirement already satisfied: urllib3<1.27,>=1.21.1 in /Users/zhouwei/opt/anaconda3/envs/nlp_env/lib/python3.8/site-packages (from requests->huggingface-hub>=0.4.0->sentence-transformers>=0.3.8->keybert) (1.26.11)\n",
      "Requirement already satisfied: certifi>=2017.4.17 in /Users/zhouwei/opt/anaconda3/envs/nlp_env/lib/python3.8/site-packages (from requests->huggingface-hub>=0.4.0->sentence-transformers>=0.3.8->keybert) (2022.6.15)\n",
      "\n",
      "\u001b[1m[\u001b[0m\u001b[34;49mnotice\u001b[0m\u001b[1;39;49m]\u001b[0m\u001b[39;49m A new release of pip available: \u001b[0m\u001b[31;49m22.2\u001b[0m\u001b[39;49m -> \u001b[0m\u001b[32;49m22.2.2\u001b[0m\n",
      "\u001b[1m[\u001b[0m\u001b[34;49mnotice\u001b[0m\u001b[1;39;49m]\u001b[0m\u001b[39;49m To update, run: \u001b[0m\u001b[32;49m/Users/zhouwei/opt/anaconda3/envs/nlp_env/bin/python -m pip install --upgrade pip\u001b[0m\n",
      "Note: you may need to restart the kernel to use updated packages.\n"
     ]
    }
   ],
   "source": [
    "pip install keybert"
   ]
  },
  {
   "cell_type": "code",
   "execution_count": 7,
   "metadata": {},
   "outputs": [
    {
     "name": "stderr",
     "output_type": "stream",
     "text": [
      "/Users/zhouwei/opt/anaconda3/envs/nlp_env/lib/python3.8/site-packages/tqdm/auto.py:22: TqdmWarning: IProgress not found. Please update jupyter and ipywidgets. See https://ipywidgets.readthedocs.io/en/stable/user_install.html\n",
      "  from .autonotebook import tqdm as notebook_tqdm\n"
     ]
    }
   ],
   "source": [
    "from keyphrase_vectorizers import KeyphraseCountVectorizer"
   ]
  },
  {
   "cell_type": "code",
   "execution_count": 8,
   "metadata": {},
   "outputs": [],
   "source": [
    "import spacy"
   ]
  },
  {
   "cell_type": "code",
   "execution_count": 10,
   "metadata": {},
   "outputs": [],
   "source": [
    "from keybert import KeyBERT"
   ]
  },
  {
   "cell_type": "code",
   "execution_count": 9,
   "metadata": {},
   "outputs": [],
   "source": [
    "vectorizer = KeyphraseCountVectorizer()\n",
    "nlp=spacy.load('en_core_web_sm')"
   ]
  },
  {
   "cell_type": "code",
   "execution_count": 11,
   "metadata": {},
   "outputs": [],
   "source": [
    "kw_model = KeyBERT()"
   ]
  },
  {
   "cell_type": "code",
   "execution_count": 12,
   "metadata": {},
   "outputs": [
    {
     "data": {
      "text/plain": [
       "[('screen recording tool', 0.4079),\n",
       " ('recording', 0.4017),\n",
       " ('stand', 0.3796),\n",
       " ('biweekly stand', 0.371),\n",
       " ('webcam', 0.3562)]"
      ]
     },
     "execution_count": 12,
     "metadata": {},
     "output_type": "execute_result"
    }
   ],
   "source": [
    "res = kw_model.extract_keywords(docs=new_line,vectorizer=KeyphraseCountVectorizer())\n",
    "res"
   ]
  },
  {
   "cell_type": "code",
   "execution_count": 65,
   "metadata": {},
   "outputs": [
    {
     "data": {
      "text/plain": [
       "list"
      ]
     },
     "execution_count": 65,
     "metadata": {},
     "output_type": "execute_result"
    }
   ],
   "source": [
    "d = dict(res)\n",
    "maximum = max(d.values())\n",
    "k = [k for k,v in d.items() if v==maximum]\n",
    "type(k)"
   ]
  },
  {
   "cell_type": "markdown",
   "metadata": {},
   "source": [
    "### Conclusion: The key word extracted from the video is 'screen recording tool'."
   ]
  },
  {
   "cell_type": "markdown",
   "metadata": {},
   "source": [
    "## Create URL for Key Word"
   ]
  },
  {
   "cell_type": "code",
   "execution_count": 23,
   "metadata": {},
   "outputs": [],
   "source": [
    "import wikipedia"
   ]
  },
  {
   "cell_type": "code",
   "execution_count": 17,
   "metadata": {},
   "outputs": [],
   "source": [
    "# STEP1: All keywords input will get a list of options output\n",
    "def get_options(keyword):\n",
    "    options = list(keyword)\n",
    "    \n",
    "    try:\n",
    "        page = wikipedia.page(keyword).url\n",
    "        \n",
    "    except wikipedia.exceptions.DisambiguationError as e:\n",
    "        options = e.options\n",
    "    except wikipedia.PageError as e:\n",
    "        options = wikipedia.search(keyword)\n",
    "    return options"
   ]
  },
  {
   "cell_type": "code",
   "execution_count": 20,
   "metadata": {},
   "outputs": [],
   "source": [
    "# STEP2: Calculate the similarity between original keyword and list of options output\n",
    "def cosine_similarity(doc1,doc2): \n",
    "    nlp1 = nlp(doc1)\n",
    "    nlp2 = nlp(doc2)\n",
    "    similarity = nlp1.similarity(nlp2)\n",
    "    return similarity"
   ]
  },
  {
   "cell_type": "code",
   "execution_count": 21,
   "metadata": {},
   "outputs": [],
   "source": [
    "# STEP3: Create a function to evaluate option in options \n",
    "def select_option(options,keyword): #options is a list\n",
    "\n",
    "    if len(options)==1:\n",
    "        option = options[0] # The only result will be used as searching query\n",
    "        \n",
    "    elif len(options)>1: \n",
    "        try: \n",
    "            temp=[]\n",
    "            for option in options: \n",
    "                score=cosine_similarity(wikipedia.summary(option,sentences=1),keyword)\n",
    "                temp.append(score)\n",
    "            option = options[temp.index(max(temp))]\n",
    "            \n",
    "        except:\n",
    "            option = None\n",
    "    \n",
    "    return option"
   ]
  },
  {
   "cell_type": "code",
   "execution_count": 90,
   "metadata": {},
   "outputs": [],
   "source": [
    "# Step4: Find URL for query\n",
    "def create_url(query):\n",
    "    page = wikipedia.page(query).url\n",
    "    \n",
    "    return page"
   ]
  },
  {
   "cell_type": "code",
   "execution_count": 76,
   "metadata": {},
   "outputs": [],
   "source": [
    "df['key_word'] = [k]*1"
   ]
  },
  {
   "cell_type": "code",
   "execution_count": 83,
   "metadata": {},
   "outputs": [],
   "source": [
    "df['options'] = df['key_word'].apply(get_options)"
   ]
  },
  {
   "cell_type": "code",
   "execution_count": 84,
   "metadata": {},
   "outputs": [
    {
     "data": {
      "text/html": [
       "<div>\n",
       "<style scoped>\n",
       "    .dataframe tbody tr th:only-of-type {\n",
       "        vertical-align: middle;\n",
       "    }\n",
       "\n",
       "    .dataframe tbody tr th {\n",
       "        vertical-align: top;\n",
       "    }\n",
       "\n",
       "    .dataframe thead th {\n",
       "        text-align: right;\n",
       "    }\n",
       "</style>\n",
       "<table border=\"1\" class=\"dataframe\">\n",
       "  <thead>\n",
       "    <tr style=\"text-align: right;\">\n",
       "      <th></th>\n",
       "      <th>transcripts</th>\n",
       "      <th>key_word</th>\n",
       "      <th>options</th>\n",
       "    </tr>\n",
       "  </thead>\n",
       "  <tbody>\n",
       "    <tr>\n",
       "      <th>0</th>\n",
       "      <td>I mentioned to you that we're going to do some...</td>\n",
       "      <td>[screen recording tool]</td>\n",
       "      <td>[screen recording tool]</td>\n",
       "    </tr>\n",
       "  </tbody>\n",
       "</table>\n",
       "</div>"
      ],
      "text/plain": [
       "                                         transcripts                 key_word  \\\n",
       "0  I mentioned to you that we're going to do some...  [screen recording tool]   \n",
       "\n",
       "                   options  \n",
       "0  [screen recording tool]  "
      ]
     },
     "execution_count": 84,
     "metadata": {},
     "output_type": "execute_result"
    }
   ],
   "source": [
    "df"
   ]
  },
  {
   "cell_type": "code",
   "execution_count": 86,
   "metadata": {},
   "outputs": [],
   "source": [
    "df['query'] = df.apply(lambda x: select_option(x.options,x.key_word),axis=1)"
   ]
  },
  {
   "cell_type": "code",
   "execution_count": 91,
   "metadata": {},
   "outputs": [],
   "source": [
    "df['URL'] = df['query'].apply(create_url)"
   ]
  },
  {
   "cell_type": "code",
   "execution_count": 92,
   "metadata": {},
   "outputs": [
    {
     "data": {
      "text/html": [
       "<div>\n",
       "<style scoped>\n",
       "    .dataframe tbody tr th:only-of-type {\n",
       "        vertical-align: middle;\n",
       "    }\n",
       "\n",
       "    .dataframe tbody tr th {\n",
       "        vertical-align: top;\n",
       "    }\n",
       "\n",
       "    .dataframe thead th {\n",
       "        text-align: right;\n",
       "    }\n",
       "</style>\n",
       "<table border=\"1\" class=\"dataframe\">\n",
       "  <thead>\n",
       "    <tr style=\"text-align: right;\">\n",
       "      <th></th>\n",
       "      <th>transcripts</th>\n",
       "      <th>key_word</th>\n",
       "      <th>options</th>\n",
       "      <th>query</th>\n",
       "      <th>URL</th>\n",
       "    </tr>\n",
       "  </thead>\n",
       "  <tbody>\n",
       "    <tr>\n",
       "      <th>0</th>\n",
       "      <td>I mentioned to you that we're going to do some...</td>\n",
       "      <td>[screen recording tool]</td>\n",
       "      <td>[screen recording tool]</td>\n",
       "      <td>screen recording tool</td>\n",
       "      <td>https://en.wikipedia.org/wiki/Screencast</td>\n",
       "    </tr>\n",
       "  </tbody>\n",
       "</table>\n",
       "</div>"
      ],
      "text/plain": [
       "                                         transcripts                 key_word  \\\n",
       "0  I mentioned to you that we're going to do some...  [screen recording tool]   \n",
       "\n",
       "                   options                  query  \\\n",
       "0  [screen recording tool]  screen recording tool   \n",
       "\n",
       "                                        URL  \n",
       "0  https://en.wikipedia.org/wiki/Screencast  "
      ]
     },
     "execution_count": 92,
     "metadata": {},
     "output_type": "execute_result"
    }
   ],
   "source": [
    "df"
   ]
  },
  {
   "cell_type": "markdown",
   "metadata": {},
   "source": [
    "### Conslution: Finally we find the URLs for the key word 'screen recording tool'."
   ]
  },
  {
   "cell_type": "code",
   "execution_count": 94,
   "metadata": {},
   "outputs": [
    {
     "data": {
      "text/plain": [
       "0    https://en.wikipedia.org/wiki/Screencast\n",
       "Name: URL, dtype: object"
      ]
     },
     "execution_count": 94,
     "metadata": {},
     "output_type": "execute_result"
    }
   ],
   "source": [
    "df.URL"
   ]
  },
  {
   "cell_type": "code",
   "execution_count": null,
   "metadata": {},
   "outputs": [],
   "source": []
  }
 ],
 "metadata": {
  "kernelspec": {
   "display_name": "Python 3 (ipykernel)",
   "language": "python",
   "name": "python3"
  },
  "language_info": {
   "codemirror_mode": {
    "name": "ipython",
    "version": 3
   },
   "file_extension": ".py",
   "mimetype": "text/x-python",
   "name": "python",
   "nbconvert_exporter": "python",
   "pygments_lexer": "ipython3",
   "version": "3.8.13"
  }
 },
 "nbformat": 4,
 "nbformat_minor": 4
}
