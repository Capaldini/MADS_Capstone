{
 "cells": [
  {
   "cell_type": "markdown",
   "metadata": {},
   "source": [
    "# Hyperlink Generation\n",
    "This notebook generates hyperlinks for the keywords identified in the transcript dataset using the wikipedia library."
   ]
  },
  {
   "cell_type": "code",
   "execution_count": 1,
   "metadata": {},
   "outputs": [],
   "source": [
    "import pandas as pd\n",
    "import wikipedia\n",
    "import re\n",
    "import os\n",
    "import spacy"
   ]
  },
  {
   "cell_type": "markdown",
   "metadata": {},
   "source": [
    "## Input Course URL\n",
    "The course id can be found in the hyperlink for any page in the course."
   ]
  },
  {
   "cell_type": "code",
   "execution_count": 2,
   "metadata": {},
   "outputs": [],
   "source": [
    "url = 'https://www.coursera.org/learn/siads697698/lecture/3vwIb/how-to-do-a-standup'\n",
    "course = re.search('(?<=coursera.org/learn/)(\\w+)', url).group(0)"
   ]
  },
  {
   "cell_type": "code",
   "execution_count": 3,
   "metadata": {},
   "outputs": [
    {
     "data": {
      "text/plain": [
       "'siads697698'"
      ]
     },
     "execution_count": 3,
     "metadata": {},
     "output_type": "execute_result"
    }
   ],
   "source": [
    "course"
   ]
  },
  {
   "cell_type": "markdown",
   "metadata": {},
   "source": [
    "## Load Directory"
   ]
  },
  {
   "cell_type": "code",
   "execution_count": 4,
   "metadata": {},
   "outputs": [],
   "source": [
    "directory = os.listdir('/Users/nicolascap/MADS/Capstone/intermediate_data')\n",
    "new = True\n",
    "for file in directory:\n",
    "    if '{}_summaries_keywords_hyperlinks'.format(course) in file:\n",
    "        print(\"Course Already In Directory\")\n",
    "        new = False"
   ]
  },
  {
   "cell_type": "markdown",
   "metadata": {},
   "source": [
    "## Read in Transcript DataFrame"
   ]
  },
  {
   "cell_type": "code",
   "execution_count": 9,
   "metadata": {},
   "outputs": [
    {
     "data": {
      "text/html": [
       "<div>\n",
       "<style scoped>\n",
       "    .dataframe tbody tr th:only-of-type {\n",
       "        vertical-align: middle;\n",
       "    }\n",
       "\n",
       "    .dataframe tbody tr th {\n",
       "        vertical-align: top;\n",
       "    }\n",
       "\n",
       "    .dataframe thead th {\n",
       "        text-align: right;\n",
       "    }\n",
       "</style>\n",
       "<table border=\"1\" class=\"dataframe\">\n",
       "  <thead>\n",
       "    <tr style=\"text-align: right;\">\n",
       "      <th></th>\n",
       "      <th>course_id</th>\n",
       "      <th>video_title</th>\n",
       "      <th>transcripts</th>\n",
       "      <th>length</th>\n",
       "      <th>summary</th>\n",
       "      <th>keywords</th>\n",
       "    </tr>\n",
       "  </thead>\n",
       "  <tbody>\n",
       "    <tr>\n",
       "      <td>0</td>\n",
       "      <td>siads697698</td>\n",
       "      <td>recording-of-elle-o-brien-office-hours-siads-6...</td>\n",
       "      <td>We'll see if anybody is joining us today. What...</td>\n",
       "      <td>20293</td>\n",
       "      <td>Because at first time, I was thinking about us...</td>\n",
       "      <td>['git tutorial today', 'terminal', 'analysis s...</td>\n",
       "    </tr>\n",
       "    <tr>\n",
       "      <td>1</td>\n",
       "      <td>siads697698</td>\n",
       "      <td>recording-of-elle-o-brien-office-hours-siads-6...</td>\n",
       "      <td>I'm going to do this, Git log.one line and tha...</td>\n",
       "      <td>20294</td>\n",
       "      <td>In this branch, let's create a new file and ca...</td>\n",
       "      <td>['git log.one line', 'commits', 'dvc repository']</td>\n",
       "    </tr>\n",
       "    <tr>\n",
       "      <td>2</td>\n",
       "      <td>siads697698</td>\n",
       "      <td>recording-of-elle-o-brien-office-hours-siads-6...</td>\n",
       "      <td>Well, not sure if anybody is joining this morn...</td>\n",
       "      <td>21840</td>\n",
       "      <td>If that doesn't get you exactly what you want,...</td>\n",
       "      <td>['license file', 'team meeting', 'office hour'...</td>\n",
       "    </tr>\n",
       "    <tr>\n",
       "      <td>3</td>\n",
       "      <td>siads697698</td>\n",
       "      <td>recording-of-elle-o-brien-office-hours-siads-6...</td>\n",
       "      <td>now. Cool. There's lots of stuff here. Wow, l...</td>\n",
       "      <td>21840</td>\n",
       "      <td>If you're not very comfortable doing terminal ...</td>\n",
       "      <td>['github', 'make dataset file', 'folder struct...</td>\n",
       "    </tr>\n",
       "    <tr>\n",
       "      <td>4</td>\n",
       "      <td>siads697698</td>\n",
       "      <td>recording-of-elle-o-brien-office-hours-siads-6...</td>\n",
       "      <td>Hello, nice to meet you. &gt;&gt; Nice to meet you t...</td>\n",
       "      <td>24317</td>\n",
       "      <td>&gt;&gt; Yeah, you can do that too, so today, I'm go...</td>\n",
       "      <td>['jupiter notebook experience', 'gpu', 'course...</td>\n",
       "    </tr>\n",
       "  </tbody>\n",
       "</table>\n",
       "</div>"
      ],
      "text/plain": [
       "     course_id                                        video_title  \\\n",
       "0  siads697698  recording-of-elle-o-brien-office-hours-siads-6...   \n",
       "1  siads697698  recording-of-elle-o-brien-office-hours-siads-6...   \n",
       "2  siads697698  recording-of-elle-o-brien-office-hours-siads-6...   \n",
       "3  siads697698  recording-of-elle-o-brien-office-hours-siads-6...   \n",
       "4  siads697698  recording-of-elle-o-brien-office-hours-siads-6...   \n",
       "\n",
       "                                         transcripts  length  \\\n",
       "0  We'll see if anybody is joining us today. What...   20293   \n",
       "1  I'm going to do this, Git log.one line and tha...   20294   \n",
       "2  Well, not sure if anybody is joining this morn...   21840   \n",
       "3   now. Cool. There's lots of stuff here. Wow, l...   21840   \n",
       "4  Hello, nice to meet you. >> Nice to meet you t...   24317   \n",
       "\n",
       "                                             summary  \\\n",
       "0  Because at first time, I was thinking about us...   \n",
       "1  In this branch, let's create a new file and ca...   \n",
       "2  If that doesn't get you exactly what you want,...   \n",
       "3  If you're not very comfortable doing terminal ...   \n",
       "4  >> Yeah, you can do that too, so today, I'm go...   \n",
       "\n",
       "                                            keywords  \n",
       "0  ['git tutorial today', 'terminal', 'analysis s...  \n",
       "1  ['git log.one line', 'commits', 'dvc repository']  \n",
       "2  ['license file', 'team meeting', 'office hour'...  \n",
       "3  ['github', 'make dataset file', 'folder struct...  \n",
       "4  ['jupiter notebook experience', 'gpu', 'course...  "
      ]
     },
     "execution_count": 9,
     "metadata": {},
     "output_type": "execute_result"
    }
   ],
   "source": [
    "df = pd.read_csv(\"./intermediate_data/transcripts_{}_summaries_keywords.csv\".format(course)).drop(['Unnamed: 0'], axis=1)\n",
    "df.head()"
   ]
  },
  {
   "cell_type": "markdown",
   "metadata": {},
   "source": [
    "## Generate First Transcript for URLs"
   ]
  },
  {
   "cell_type": "code",
   "execution_count": 10,
   "metadata": {},
   "outputs": [],
   "source": [
    "keywords = df.keywords.iloc[10] #7\n",
    "\n",
    "summary = df.summary.iloc[10] #7\n",
    "data_science = wikipedia.summary('Data_science')\n",
    "online_learning_in_higher_education = wikipedia.summary('Online_learning_in_higher_education')\n",
    "\n",
    "def clean_alt_list(list_):\n",
    "    list_ = list_.replace(\"', '\", 'X')\n",
    "    list_ = list_.replace(\"['\", 'X')\n",
    "    list_ = list_.replace(\"']\", 'X')\n",
    "    return list_.split(\"X\")[1:-1]\n",
    "keywords = clean_alt_list(keywords)"
   ]
  },
  {
   "cell_type": "markdown",
   "metadata": {},
   "source": [
    "## Define get_options Function"
   ]
  },
  {
   "cell_type": "code",
   "execution_count": 12,
   "metadata": {},
   "outputs": [],
   "source": [
    "def get_options(keyword):\n",
    "    \"\"\"All keywords input will get a list of options output\"\"\"\n",
    "    #if type(keyword) != list\n",
    "    \n",
    "    options = list(keyword)\n",
    "    \n",
    "    \n",
    "    try:\n",
    "        page = wikipedia.page(keyword).url\n",
    "        worked=True\n",
    "        \n",
    "    except wikipedia.exceptions.DisambiguationError as e:\n",
    "        options = e.options\n",
    "    except wikipedia.PageError as e:\n",
    "        options = wikipedia.search(keyword)\n",
    "        \n",
    "        \n",
    "    return options\n"
   ]
  },
  {
   "cell_type": "markdown",
   "metadata": {},
   "source": [
    "## Define Similarity Function"
   ]
  },
  {
   "cell_type": "code",
   "execution_count": 13,
   "metadata": {},
   "outputs": [],
   "source": [
    "nlp=spacy.load('en_core_web_sm')\n",
    "\n",
    "def cosine_similarity(doc1,doc2): \n",
    "    \"\"\"Calculate the similarity between original keyword and list of options output\"\"\"\n",
    "    nlp1 = nlp(doc1)\n",
    "    nlp2 = nlp(doc2)\n",
    "    similarity = nlp1.similarity(nlp2)\n",
    "    return similarity"
   ]
  },
  {
   "cell_type": "markdown",
   "metadata": {},
   "source": [
    "## Define Option Evaluation Function"
   ]
  },
  {
   "cell_type": "code",
   "execution_count": 14,
   "metadata": {},
   "outputs": [],
   "source": [
    "def select_option(options, keyword): #options is a list\n",
    "    \"\"\" Create a function to evaluate option in options \"\"\"\n",
    "    \n",
    "    if len(options)==1:\n",
    "        option = options[0] # The only result will be used as searching query\n",
    "    elif len(options)>1: \n",
    "        try: \n",
    "            temp=[]\n",
    "            for option in options: \n",
    "                #score=cosine_similarity(wikipedia.summary(option,sentences=1),keyword)\n",
    "                try:\n",
    "                    score=cosine_similarity(wikipedia.summary(option),keyword)\n",
    "                    #page = wikipedia.page(option)                    \n",
    "                    \n",
    "                    #score=cosine_similarity(page.content, keyword)\n",
    "                    temp.append((option, score))\n",
    "                except:\n",
    "                    None\n",
    "            option = temp #options[temp.index(max(temp))]\n",
    "            \n",
    "        except:\n",
    "            option = None\n",
    "    else:\n",
    "        option = None\n",
    "        print(\"***OPTION***\", options)\n",
    "    return option"
   ]
  },
  {
   "cell_type": "markdown",
   "metadata": {},
   "source": [
    "## Define URL Query Function"
   ]
  },
  {
   "cell_type": "code",
   "execution_count": 15,
   "metadata": {},
   "outputs": [],
   "source": [
    "def create_url(query):\n",
    "    \"\"\"Find URL for query\"\"\"\n",
    "    page = wikipedia.page(query).url\n",
    "    \n",
    "    return page"
   ]
  },
  {
   "cell_type": "markdown",
   "metadata": {},
   "source": [
    "## Get Query for Top 5"
   ]
  },
  {
   "cell_type": "code",
   "execution_count": 16,
   "metadata": {},
   "outputs": [
    {
     "name": "stderr",
     "output_type": "stream",
     "text": [
      "/Users/nicolascap/opt/anaconda3/lib/python3.7/site-packages/ipykernel_launcher.py:7: UserWarning: [W007] The model you're using has no word vectors loaded, so the result of the Doc.similarity method will be based on the tagger, parser and NER, which may not give useful similarity judgements. This may happen if you're using one of the small models, e.g. `en_core_web_sm`, which don't ship with word vectors and only use context-sensitive tensors. You can always add your own word vectors, or use one of the larger models instead if available.\n",
      "  import sys\n"
     ]
    },
    {
     "data": {
      "text/plain": [
       "['github readme document',\n",
       " 'Time-based one-time password',\n",
       " 'PATH Biobank',\n",
       " 'basic installation notes',\n",
       " 'Knowledge management software']"
      ]
     },
     "execution_count": 16,
     "metadata": {},
     "output_type": "execute_result"
    }
   ],
   "source": [
    "query_list = []\n",
    "for word in keywords:\n",
    "    options = get_options([word])\n",
    "    if len(options) > 1:\n",
    "        options = options + get_options([word+'_'])\n",
    "        \n",
    "    selected = select_option(options,summary + data_science)\n",
    "    if type(selected) == list:\n",
    "        selected.sort(key = lambda x: x[1], reverse=True)\n",
    "        selected = selected[0][0]\n",
    "    query_list.append(selected)\n",
    "query_list"
   ]
  },
  {
   "cell_type": "markdown",
   "metadata": {},
   "source": [
    "## Get URLs for Top 3"
   ]
  },
  {
   "cell_type": "code",
   "execution_count": 17,
   "metadata": {},
   "outputs": [
    {
     "name": "stderr",
     "output_type": "stream",
     "text": [
      "/Users/nicolascap/opt/anaconda3/lib/python3.7/site-packages/ipykernel_launcher.py:7: UserWarning: [W007] The model you're using has no word vectors loaded, so the result of the Doc.similarity method will be based on the tagger, parser and NER, which may not give useful similarity judgements. This may happen if you're using one of the small models, e.g. `en_core_web_sm`, which don't ship with word vectors and only use context-sensitive tensors. You can always add your own word vectors, or use one of the larger models instead if available.\n",
      "  import sys\n"
     ]
    },
    {
     "data": {
      "text/plain": [
       "[('github readme document', 'https://en.wikipedia.org/wiki/README'),\n",
       " ('Time-based one-time password',\n",
       "  'https://en.wikipedia.org/wiki/One-time_password'),\n",
       " ('Knowledge management software',\n",
       "  'https://en.wikipedia.org/wiki/Knowledge_management_software')]"
      ]
     },
     "execution_count": 17,
     "metadata": {},
     "output_type": "execute_result"
    }
   ],
   "source": [
    "url_list = []\n",
    "for query in query_list:\n",
    "    sim = cosine_similarity(wikipedia.summary(query), summary + data_science)\n",
    "    url = create_url(query)\n",
    "    url_list.append((query, url, sim))\n",
    "                    \n",
    "url_list.sort(key = lambda x: x[2], reverse=True)\n",
    "url_list = url_list[:3]\n",
    "url_list = [(x, y) for x,y,z in url_list]\n",
    "url_list \n"
   ]
  },
  {
   "cell_type": "markdown",
   "metadata": {},
   "source": [
    "## Apply to All Transcripts"
   ]
  },
  {
   "cell_type": "code",
   "execution_count": 18,
   "metadata": {},
   "outputs": [
    {
     "name": "stderr",
     "output_type": "stream",
     "text": [
      "/Users/nicolascap/opt/anaconda3/lib/python3.7/site-packages/wikipedia/wikipedia.py:389: UserWarning: No parser was explicitly specified, so I'm using the best available HTML parser for this system (\"lxml\"). This usually isn't a problem, but if you run this code on another system, or in a different virtual environment, it may use a different parser and behave differently.\n",
      "\n",
      "The code that caused this warning is on line 389 of the file /Users/nicolascap/opt/anaconda3/lib/python3.7/site-packages/wikipedia/wikipedia.py. To get rid of this warning, pass the additional argument 'features=\"lxml\"' to the BeautifulSoup constructor.\n",
      "\n",
      "  lis = BeautifulSoup(html).find_all('li')\n",
      "/Users/nicolascap/opt/anaconda3/lib/python3.7/site-packages/ipykernel_launcher.py:7: UserWarning: [W007] The model you're using has no word vectors loaded, so the result of the Doc.similarity method will be based on the tagger, parser and NER, which may not give useful similarity judgements. This may happen if you're using one of the small models, e.g. `en_core_web_sm`, which don't ship with word vectors and only use context-sensitive tensors. You can always add your own word vectors, or use one of the larger models instead if available.\n",
      "  import sys\n"
     ]
    },
    {
     "name": "stdout",
     "output_type": "stream",
     "text": [
      "biweekly asynchronous video stand []\n",
      "***OPTION*** []\n"
     ]
    }
   ],
   "source": [
    "def url_creation(lecture_keywords, lecture_summary):\n",
    "    query_list = []\n",
    "    url_list = []\n",
    "    lecture_keywords_clean = clean_alt_list(lecture_keywords)\n",
    "    for word in lecture_keywords_clean:     \n",
    "        #gather all options\n",
    "        options = get_options([word])\n",
    "        if len(options) > 1:\n",
    "            options = options + get_options([word+'_'])\n",
    "        elif len(options) < 1:\n",
    "            print(word, options) \n",
    "        #select the best option\n",
    "        selected = select_option(options, lecture_summary + data_science)\n",
    "        if type(selected) == list:\n",
    "            selected.sort(key = lambda x: x[1], reverse=True)\n",
    "            selected = selected[0][0]\n",
    "        query_list.append(selected)\n",
    "    res = []\n",
    "    for val in query_list:\n",
    "        if val != None :\n",
    "            res.append(val)\n",
    "    query_list = res\n",
    "    for query in query_list:\n",
    "        sim = cosine_similarity(wikipedia.summary(query), lecture_summary + data_science)\n",
    "        url = create_url(query)\n",
    "        url_list.append((query, url, sim))\n",
    "                    \n",
    "    url_list.sort(key = lambda x: x[2], reverse=True)\n",
    "    if len(url_list) > 3:\n",
    "        url_list = url_list[:3]\n",
    "    url_list = [(x, y) for x,y,z in url_list]\n",
    "    return url_list\n",
    "\n",
    "df['url'] = df.apply(lambda x: url_creation(x.keywords, x.summary), axis=1)\n",
    "\n"
   ]
  },
  {
   "cell_type": "code",
   "execution_count": 19,
   "metadata": {},
   "outputs": [
    {
     "data": {
      "text/html": [
       "<div>\n",
       "<style scoped>\n",
       "    .dataframe tbody tr th:only-of-type {\n",
       "        vertical-align: middle;\n",
       "    }\n",
       "\n",
       "    .dataframe tbody tr th {\n",
       "        vertical-align: top;\n",
       "    }\n",
       "\n",
       "    .dataframe thead th {\n",
       "        text-align: right;\n",
       "    }\n",
       "</style>\n",
       "<table border=\"1\" class=\"dataframe\">\n",
       "  <thead>\n",
       "    <tr style=\"text-align: right;\">\n",
       "      <th></th>\n",
       "      <th>course_id</th>\n",
       "      <th>video_title</th>\n",
       "      <th>transcripts</th>\n",
       "      <th>length</th>\n",
       "      <th>summary</th>\n",
       "      <th>keywords</th>\n",
       "      <th>url</th>\n",
       "    </tr>\n",
       "  </thead>\n",
       "  <tbody>\n",
       "    <tr>\n",
       "      <td>0</td>\n",
       "      <td>siads697698</td>\n",
       "      <td>recording-of-elle-o-brien-office-hours-siads-6...</td>\n",
       "      <td>We'll see if anybody is joining us today. What...</td>\n",
       "      <td>20293</td>\n",
       "      <td>Because at first time, I was thinking about us...</td>\n",
       "      <td>['git tutorial today', 'terminal', 'analysis s...</td>\n",
       "      <td>[(analysis scripts, https://en.wikipedia.org/w...</td>\n",
       "    </tr>\n",
       "    <tr>\n",
       "      <td>1</td>\n",
       "      <td>siads697698</td>\n",
       "      <td>recording-of-elle-o-brien-office-hours-siads-6...</td>\n",
       "      <td>I'm going to do this, Git log.one line and tha...</td>\n",
       "      <td>20294</td>\n",
       "      <td>In this branch, let's create a new file and ca...</td>\n",
       "      <td>['git log.one line', 'commits', 'dvc repository']</td>\n",
       "      <td>[(Nicotine replacement therapy, https://en.wik...</td>\n",
       "    </tr>\n",
       "    <tr>\n",
       "      <td>2</td>\n",
       "      <td>siads697698</td>\n",
       "      <td>recording-of-elle-o-brien-office-hours-siads-6...</td>\n",
       "      <td>Well, not sure if anybody is joining this morn...</td>\n",
       "      <td>21840</td>\n",
       "      <td>If that doesn't get you exactly what you want,...</td>\n",
       "      <td>['license file', 'team meeting', 'office hour'...</td>\n",
       "      <td>[(project structure, https://en.wikipedia.org/...</td>\n",
       "    </tr>\n",
       "    <tr>\n",
       "      <td>3</td>\n",
       "      <td>siads697698</td>\n",
       "      <td>recording-of-elle-o-brien-office-hours-siads-6...</td>\n",
       "      <td>now. Cool. There's lots of stuff here. Wow, l...</td>\n",
       "      <td>21840</td>\n",
       "      <td>If you're not very comfortable doing terminal ...</td>\n",
       "      <td>['github', 'make dataset file', 'folder struct...</td>\n",
       "      <td>[(Image viewer, https://en.wikipedia.org/wiki/...</td>\n",
       "    </tr>\n",
       "    <tr>\n",
       "      <td>4</td>\n",
       "      <td>siads697698</td>\n",
       "      <td>recording-of-elle-o-brien-office-hours-siads-6...</td>\n",
       "      <td>Hello, nice to meet you. &gt;&gt; Nice to meet you t...</td>\n",
       "      <td>24317</td>\n",
       "      <td>&gt;&gt; Yeah, you can do that too, so today, I'm go...</td>\n",
       "      <td>['jupiter notebook experience', 'gpu', 'course...</td>\n",
       "      <td>[(Lead poisoning, https://en.wikipedia.org/wik...</td>\n",
       "    </tr>\n",
       "    <tr>\n",
       "      <td>5</td>\n",
       "      <td>siads697698</td>\n",
       "      <td>recording-of-elle-o-brien-office-hours-siads-6...</td>\n",
       "      <td>model perhaps we don't have any rules like th...</td>\n",
       "      <td>24317</td>\n",
       "      <td>And so the ideal model for each one could, it ...</td>\n",
       "      <td>['data science job market analysis', 'deep reg...</td>\n",
       "      <td>[(Study skill, https://en.wikipedia.org/wiki/S...</td>\n",
       "    </tr>\n",
       "    <tr>\n",
       "      <td>6</td>\n",
       "      <td>siads697698</td>\n",
       "      <td>how-to-write-an-effective-blog-post</td>\n",
       "      <td>It's not enough to just do data science on you...</td>\n",
       "      <td>7725</td>\n",
       "      <td>It could be that you've done something that ot...</td>\n",
       "      <td>['professional data science', 'voice', 'blog',...</td>\n",
       "      <td>[(editing_, https://en.wikipedia.org/wiki/Edit...</td>\n",
       "    </tr>\n",
       "    <tr>\n",
       "      <td>7</td>\n",
       "      <td>siads697698</td>\n",
       "      <td>how-to-do-a-standup</td>\n",
       "      <td>I mentioned to you that we're going to do some...</td>\n",
       "      <td>3253</td>\n",
       "      <td>I mentioned to you that we're going to do some...</td>\n",
       "      <td>['slack', 'screen recording tool', 'webcam', '...</td>\n",
       "      <td>[(Place identity, https://en.wikipedia.org/wik...</td>\n",
       "    </tr>\n",
       "    <tr>\n",
       "      <td>8</td>\n",
       "      <td>siads697698</td>\n",
       "      <td>how-to-collaborate-with-a-team</td>\n",
       "      <td>One of the most unexpectedly challenging parts...</td>\n",
       "      <td>13279</td>\n",
       "      <td>I don't know what a really reliable and certai...</td>\n",
       "      <td>['data science collaboration', 'dead code bloc...</td>\n",
       "      <td>[(data science collaboration, https://en.wikip...</td>\n",
       "    </tr>\n",
       "    <tr>\n",
       "      <td>9</td>\n",
       "      <td>siads697698</td>\n",
       "      <td>capstone-overview</td>\n",
       "      <td>Hi, welcome to the capstone. My name's Dr. Ell...</td>\n",
       "      <td>5438</td>\n",
       "      <td>Office hours are not required or expected of y...</td>\n",
       "      <td>['other data science instructors', 'office hou...</td>\n",
       "      <td>[(other data science instructors, https://en.w...</td>\n",
       "    </tr>\n",
       "    <tr>\n",
       "      <td>10</td>\n",
       "      <td>siads697698</td>\n",
       "      <td>how-to-write-documentation-for-your-project-re...</td>\n",
       "      <td>As part of turning in your final project, you'...</td>\n",
       "      <td>11874</td>\n",
       "      <td>If you're not too familiar with GitHub before,...</td>\n",
       "      <td>['github readme document', 'jupyter notebook',...</td>\n",
       "      <td>[(github readme document, https://en.wikipedia...</td>\n",
       "    </tr>\n",
       "    <tr>\n",
       "      <td>11</td>\n",
       "      <td>siads697698</td>\n",
       "      <td>recording-of-elle-o-brien-office-hours-siads-6...</td>\n",
       "      <td>Okay, we'll see if anybody shows up in the nex...</td>\n",
       "      <td>28042</td>\n",
       "      <td>So I don't know if that really tells me anythi...</td>\n",
       "      <td>['imbalance data', 'dog project', 'calendar', ...</td>\n",
       "      <td>[(Character class, https://en.wikipedia.org/wi...</td>\n",
       "    </tr>\n",
       "    <tr>\n",
       "      <td>12</td>\n",
       "      <td>siads697698</td>\n",
       "      <td>recording-of-elle-o-brien-office-hours-siads-6...</td>\n",
       "      <td>All right, good morning. What we going to do i...</td>\n",
       "      <td>32047</td>\n",
       "      <td>So if I go to Google Scholar, this is, this is...</td>\n",
       "      <td>['health information quality', 'data science w...</td>\n",
       "      <td>[(scientific knowledge infrastructure, https:/...</td>\n",
       "    </tr>\n",
       "    <tr>\n",
       "      <td>13</td>\n",
       "      <td>siads697698</td>\n",
       "      <td>recording-of-elle-o-brien-office-hours-siads-6...</td>\n",
       "      <td>All right we'll see if anybody joins but it's ...</td>\n",
       "      <td>23689</td>\n",
       "      <td>&gt;&gt; I do I I sent it to Alex actually said I wa...</td>\n",
       "      <td>['effective visual summary', 'aws stack', 'pos...</td>\n",
       "      <td>[(Graphic designer, https://en.wikipedia.org/w...</td>\n",
       "    </tr>\n",
       "    <tr>\n",
       "      <td>14</td>\n",
       "      <td>siads697698</td>\n",
       "      <td>recording-of-elle-o-brien-office-hours-siads-6...</td>\n",
       "      <td>aving your own computer, what's your workflow ...</td>\n",
       "      <td>23690</td>\n",
       "      <td>aving your own computer, what's your workflow ...</td>\n",
       "      <td>['new virtual environment', 'repo', 'main mach...</td>\n",
       "      <td>[(HAL (open archive), https://en.wikipedia.org...</td>\n",
       "    </tr>\n",
       "  </tbody>\n",
       "</table>\n",
       "</div>"
      ],
      "text/plain": [
       "      course_id                                        video_title  \\\n",
       "0   siads697698  recording-of-elle-o-brien-office-hours-siads-6...   \n",
       "1   siads697698  recording-of-elle-o-brien-office-hours-siads-6...   \n",
       "2   siads697698  recording-of-elle-o-brien-office-hours-siads-6...   \n",
       "3   siads697698  recording-of-elle-o-brien-office-hours-siads-6...   \n",
       "4   siads697698  recording-of-elle-o-brien-office-hours-siads-6...   \n",
       "5   siads697698  recording-of-elle-o-brien-office-hours-siads-6...   \n",
       "6   siads697698                how-to-write-an-effective-blog-post   \n",
       "7   siads697698                                how-to-do-a-standup   \n",
       "8   siads697698                     how-to-collaborate-with-a-team   \n",
       "9   siads697698                                  capstone-overview   \n",
       "10  siads697698  how-to-write-documentation-for-your-project-re...   \n",
       "11  siads697698  recording-of-elle-o-brien-office-hours-siads-6...   \n",
       "12  siads697698  recording-of-elle-o-brien-office-hours-siads-6...   \n",
       "13  siads697698  recording-of-elle-o-brien-office-hours-siads-6...   \n",
       "14  siads697698  recording-of-elle-o-brien-office-hours-siads-6...   \n",
       "\n",
       "                                          transcripts  length  \\\n",
       "0   We'll see if anybody is joining us today. What...   20293   \n",
       "1   I'm going to do this, Git log.one line and tha...   20294   \n",
       "2   Well, not sure if anybody is joining this morn...   21840   \n",
       "3    now. Cool. There's lots of stuff here. Wow, l...   21840   \n",
       "4   Hello, nice to meet you. >> Nice to meet you t...   24317   \n",
       "5    model perhaps we don't have any rules like th...   24317   \n",
       "6   It's not enough to just do data science on you...    7725   \n",
       "7   I mentioned to you that we're going to do some...    3253   \n",
       "8   One of the most unexpectedly challenging parts...   13279   \n",
       "9   Hi, welcome to the capstone. My name's Dr. Ell...    5438   \n",
       "10  As part of turning in your final project, you'...   11874   \n",
       "11  Okay, we'll see if anybody shows up in the nex...   28042   \n",
       "12  All right, good morning. What we going to do i...   32047   \n",
       "13  All right we'll see if anybody joins but it's ...   23689   \n",
       "14  aving your own computer, what's your workflow ...   23690   \n",
       "\n",
       "                                              summary  \\\n",
       "0   Because at first time, I was thinking about us...   \n",
       "1   In this branch, let's create a new file and ca...   \n",
       "2   If that doesn't get you exactly what you want,...   \n",
       "3   If you're not very comfortable doing terminal ...   \n",
       "4   >> Yeah, you can do that too, so today, I'm go...   \n",
       "5   And so the ideal model for each one could, it ...   \n",
       "6   It could be that you've done something that ot...   \n",
       "7   I mentioned to you that we're going to do some...   \n",
       "8   I don't know what a really reliable and certai...   \n",
       "9   Office hours are not required or expected of y...   \n",
       "10  If you're not too familiar with GitHub before,...   \n",
       "11  So I don't know if that really tells me anythi...   \n",
       "12  So if I go to Google Scholar, this is, this is...   \n",
       "13  >> I do I I sent it to Alex actually said I wa...   \n",
       "14  aving your own computer, what's your workflow ...   \n",
       "\n",
       "                                             keywords  \\\n",
       "0   ['git tutorial today', 'terminal', 'analysis s...   \n",
       "1   ['git log.one line', 'commits', 'dvc repository']   \n",
       "2   ['license file', 'team meeting', 'office hour'...   \n",
       "3   ['github', 'make dataset file', 'folder struct...   \n",
       "4   ['jupiter notebook experience', 'gpu', 'course...   \n",
       "5   ['data science job market analysis', 'deep reg...   \n",
       "6   ['professional data science', 'voice', 'blog',...   \n",
       "7   ['slack', 'screen recording tool', 'webcam', '...   \n",
       "8   ['data science collaboration', 'dead code bloc...   \n",
       "9   ['other data science instructors', 'office hou...   \n",
       "10  ['github readme document', 'jupyter notebook',...   \n",
       "11  ['imbalance data', 'dog project', 'calendar', ...   \n",
       "12  ['health information quality', 'data science w...   \n",
       "13  ['effective visual summary', 'aws stack', 'pos...   \n",
       "14  ['new virtual environment', 'repo', 'main mach...   \n",
       "\n",
       "                                                  url  \n",
       "0   [(analysis scripts, https://en.wikipedia.org/w...  \n",
       "1   [(Nicotine replacement therapy, https://en.wik...  \n",
       "2   [(project structure, https://en.wikipedia.org/...  \n",
       "3   [(Image viewer, https://en.wikipedia.org/wiki/...  \n",
       "4   [(Lead poisoning, https://en.wikipedia.org/wik...  \n",
       "5   [(Study skill, https://en.wikipedia.org/wiki/S...  \n",
       "6   [(editing_, https://en.wikipedia.org/wiki/Edit...  \n",
       "7   [(Place identity, https://en.wikipedia.org/wik...  \n",
       "8   [(data science collaboration, https://en.wikip...  \n",
       "9   [(other data science instructors, https://en.w...  \n",
       "10  [(github readme document, https://en.wikipedia...  \n",
       "11  [(Character class, https://en.wikipedia.org/wi...  \n",
       "12  [(scientific knowledge infrastructure, https:/...  \n",
       "13  [(Graphic designer, https://en.wikipedia.org/w...  \n",
       "14  [(HAL (open archive), https://en.wikipedia.org...  "
      ]
     },
     "execution_count": 19,
     "metadata": {},
     "output_type": "execute_result"
    }
   ],
   "source": [
    "df"
   ]
  },
  {
   "cell_type": "markdown",
   "metadata": {},
   "source": [
    "## Save Dataset\n",
    "We save the transcript dataset as a csv file for further analysis."
   ]
  },
  {
   "cell_type": "code",
   "execution_count": 20,
   "metadata": {},
   "outputs": [],
   "source": [
    "df.to_csv(\"./intermediate_data/transcripts_{}_summaries_keywords_urls\".format(course))"
   ]
  },
  {
   "cell_type": "markdown",
   "metadata": {},
   "source": [
    "## Next step\n",
    "After you saved the dataset here, the information can then be used as part of a web app for usability."
   ]
  },
  {
   "cell_type": "markdown",
   "metadata": {},
   "source": [
    "---\n",
    "\n",
    "**Authors:** [Wei Zhou](mailto:weiwzhou@umich.edu), [Nick Capaldini](mailto:nickcaps@umich.edu), University of Michigan, August 21, 2022\n",
    "\n",
    "---"
   ]
  },
  {
   "cell_type": "code",
   "execution_count": null,
   "metadata": {},
   "outputs": [],
   "source": []
  }
 ],
 "metadata": {
  "kernelspec": {
   "display_name": "Python 3",
   "language": "python",
   "name": "python3"
  },
  "language_info": {
   "codemirror_mode": {
    "name": "ipython",
    "version": 3
   },
   "file_extension": ".py",
   "mimetype": "text/x-python",
   "name": "python",
   "nbconvert_exporter": "python",
   "pygments_lexer": "ipython3",
   "version": "3.7.4"
  }
 },
 "nbformat": 4,
 "nbformat_minor": 4
}
