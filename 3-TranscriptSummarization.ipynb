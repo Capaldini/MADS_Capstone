{
 "cells": [
  {
   "cell_type": "markdown",
   "metadata": {},
   "source": [
    "# Transcript Summarization\n",
    "This notebook reads the transcript dataset and generates summaries using the Bert Extractive Summarizer."
   ]
  },
  {
   "cell_type": "markdown",
   "metadata": {},
   "source": [
    "There are 2 methods of Bert Summarization\n",
    "* Bert Extractive Summarizer\n",
    "* SBert Summarizer"
   ]
  },
  {
   "cell_type": "markdown",
   "metadata": {},
   "source": [
    "Hyperparameters to be considered for models\n",
    "* param ratio: Ratio of sentences to use.\n",
    "* param min_length: Minimum length of sentence candidates to utilize for the summary.\n",
    "* param max_length: Maximum length of sentence candidates to utilize for the summary.\n",
    "* param use_first: Whether or not to use the first sentence.\n",
    "* param algorithm: Which clustering algorithm to use. (kmeans, gmm)\n",
    "* param num_sentences: Number of sentences to use (overrides ratio).\n",
    "* param return_as_list: Whether or not to return sentences as list."
   ]
  },
  {
   "cell_type": "code",
   "execution_count": 1,
   "metadata": {},
   "outputs": [],
   "source": [
    "import pandas as pd\n",
    "import numpy as np\n",
    "from summarizer import Summarizer\n",
    "from summarizer.sbert import SBertSummarizer\n",
    "import re\n",
    "import os"
   ]
  },
  {
   "cell_type": "markdown",
   "metadata": {},
   "source": [
    "## Input Course URL\n",
    "The course id can be found in the hyperlink for any page in the course."
   ]
  },
  {
   "cell_type": "code",
   "execution_count": 2,
   "metadata": {},
   "outputs": [],
   "source": [
    "url = 'https://www.coursera.org/learn/siads697698/lecture/3vwIb/how-to-do-a-standup'\n",
    "course = re.search('(?<=coursera.org/learn/)(\\w+)', url).group(0)"
   ]
  },
  {
   "cell_type": "markdown",
   "metadata": {},
   "source": [
    "## Load Directory"
   ]
  },
  {
   "cell_type": "code",
   "execution_count": 4,
   "metadata": {},
   "outputs": [
    {
     "name": "stdout",
     "output_type": "stream",
     "text": [
      "Course Already In Directory\n"
     ]
    }
   ],
   "source": [
    "directory = os.listdir('/Users/nicolascap/MADS/Capstone/intermediate_data')\n",
    "new = True\n",
    "for file in directory:\n",
    "    if '{}_summaries'.format(course) in file:\n",
    "        print(\"Course Already In Directory\")\n",
    "        new = False\n",
    "        break"
   ]
  },
  {
   "cell_type": "markdown",
   "metadata": {},
   "source": [
    "## Read in Transcript DataFrame"
   ]
  },
  {
   "cell_type": "code",
   "execution_count": 7,
   "metadata": {},
   "outputs": [
    {
     "data": {
      "text/html": [
       "<div>\n",
       "<style scoped>\n",
       "    .dataframe tbody tr th:only-of-type {\n",
       "        vertical-align: middle;\n",
       "    }\n",
       "\n",
       "    .dataframe tbody tr th {\n",
       "        vertical-align: top;\n",
       "    }\n",
       "\n",
       "    .dataframe thead th {\n",
       "        text-align: right;\n",
       "    }\n",
       "</style>\n",
       "<table border=\"1\" class=\"dataframe\">\n",
       "  <thead>\n",
       "    <tr style=\"text-align: right;\">\n",
       "      <th></th>\n",
       "      <th>course_id</th>\n",
       "      <th>video_title</th>\n",
       "      <th>transcripts</th>\n",
       "      <th>length</th>\n",
       "    </tr>\n",
       "  </thead>\n",
       "  <tbody>\n",
       "    <tr>\n",
       "      <td>0</td>\n",
       "      <td>siads697698</td>\n",
       "      <td>recording-of-elle-o-brien-office-hours-siads-6...</td>\n",
       "      <td>We'll see if anybody is joining us today. What...</td>\n",
       "      <td>20293</td>\n",
       "    </tr>\n",
       "    <tr>\n",
       "      <td>1</td>\n",
       "      <td>siads697698</td>\n",
       "      <td>recording-of-elle-o-brien-office-hours-siads-6...</td>\n",
       "      <td>I'm going to do this, Git log.one line and tha...</td>\n",
       "      <td>20294</td>\n",
       "    </tr>\n",
       "    <tr>\n",
       "      <td>2</td>\n",
       "      <td>siads697698</td>\n",
       "      <td>recording-of-elle-o-brien-office-hours-siads-6...</td>\n",
       "      <td>Well, not sure if anybody is joining this morn...</td>\n",
       "      <td>21840</td>\n",
       "    </tr>\n",
       "    <tr>\n",
       "      <td>3</td>\n",
       "      <td>siads697698</td>\n",
       "      <td>recording-of-elle-o-brien-office-hours-siads-6...</td>\n",
       "      <td>now. Cool. There's lots of stuff here. Wow, l...</td>\n",
       "      <td>21840</td>\n",
       "    </tr>\n",
       "    <tr>\n",
       "      <td>4</td>\n",
       "      <td>siads697698</td>\n",
       "      <td>recording-of-elle-o-brien-office-hours-siads-6...</td>\n",
       "      <td>Hello, nice to meet you. &gt;&gt; Nice to meet you t...</td>\n",
       "      <td>24317</td>\n",
       "    </tr>\n",
       "  </tbody>\n",
       "</table>\n",
       "</div>"
      ],
      "text/plain": [
       "     course_id                                        video_title  \\\n",
       "0  siads697698  recording-of-elle-o-brien-office-hours-siads-6...   \n",
       "1  siads697698  recording-of-elle-o-brien-office-hours-siads-6...   \n",
       "2  siads697698  recording-of-elle-o-brien-office-hours-siads-6...   \n",
       "3  siads697698  recording-of-elle-o-brien-office-hours-siads-6...   \n",
       "4  siads697698  recording-of-elle-o-brien-office-hours-siads-6...   \n",
       "\n",
       "                                         transcripts  length  \n",
       "0  We'll see if anybody is joining us today. What...   20293  \n",
       "1  I'm going to do this, Git log.one line and tha...   20294  \n",
       "2  Well, not sure if anybody is joining this morn...   21840  \n",
       "3   now. Cool. There's lots of stuff here. Wow, l...   21840  \n",
       "4  Hello, nice to meet you. >> Nice to meet you t...   24317  "
      ]
     },
     "execution_count": 7,
     "metadata": {},
     "output_type": "execute_result"
    }
   ],
   "source": [
    "df = pd.read_csv(\"./intermediate_data/transcripts_{}.csv\".format(course), index_col=0)\n",
    "df.head()"
   ]
  },
  {
   "cell_type": "markdown",
   "metadata": {},
   "source": [
    "## Generate First Transcript to Summarize\n"
   ]
  },
  {
   "cell_type": "code",
   "execution_count": 8,
   "metadata": {},
   "outputs": [
    {
     "name": "stdout",
     "output_type": "stream",
     "text": [
      "siads697698\n",
      "how-to-do-a-standup\n"
     ]
    }
   ],
   "source": [
    "#Input url\n",
    "print(course)\n",
    "title = url.split('/')[-1]\n",
    "print(title)"
   ]
  },
  {
   "cell_type": "code",
   "execution_count": 9,
   "metadata": {},
   "outputs": [
    {
     "name": "stdout",
     "output_type": "stream",
     "text": [
      "26\n",
      "I mentioned to you that we're going to do some biweekly stand-ups, so here's what to do in a stand-up. Some of you who might have worked at tech companies or similar organizations might already know about them, but if you're new, here is roughly what we're going to do. When it comes time for your stand-up, you're going to get on your webcam, or your screen recording tool, doesn't matter.Z You can show your face or not, and you're going to answer the following questions. What did my team work on this past week? What are we working on now? What issues are blocking us? Even if you're not especially blocked by anything, just say what are some of the challenges that you're facing or things that you're not sure of. To emphasize here, any team member can make the recording, so it doesn't have to be everybody on the team. I just want one representative from the team to make the stand-up and feel free to use your screen-sharing to show us any code snippets or cool results. It can be quite casual, this is not a presentation, this is a check-in. If you're facing something that is little difficult or incomplete, then that actually could be good for your classmates to see. They might have an opinion on it or a suggestion or it might just make somebody else who's dealing with that feel a little bit better, so please don't be afraid to be a little bit authentic here about what you're dealing with. One more thing, there are no hard limits on time, but the ideal would be about three to five minutes. If you go over, that's fine, if you go under, that can also be okay. We're not enforcing any limits, I just want you to do the exercise and help us understand what you were working on. Finally, let me tell you how to share your stand-up. What you're gonna do is upload your video to your U-M google Drive. You could also upload it to a personal YouTube channel or another video hosting service. It doesn't really matter as long as it's somewhere that you can upload the video and share a link to it. There is limited storage space on Slack, so please don't directly upload your video to Slack. Upload the video and then you're going to go in the stand-ups channel and copy and paste a link to the recording and make sure permissions are set so your classmates can view it. In the message body, please write your team name and then stand up. The team name is going to be the unique names of your teammates in alphabetical order. Unique names is just your University of Michigan email address. For example, it would be Alpha, Bravo, Charlie, stand up, and that's it. Then I will be asking you to watch and comment on two other classmates stand-ups, one stand up per team every two weeks, don't worry, I will remind you when they are coming, you will not be in the dark about this, and I can also create, you know, I'll put one in the channel, a demo, so you can see a real one. Stand-ups are a really popular way that a lot of organizations help their members stay responsible for their work, stay on task, motivate one another, and just build a sense of community. It's just really cool to get to see what you're working on and to watch your project and other people's unfold over time. I am looking forward to seeing you in the stand-up channel.\n"
     ]
    }
   ],
   "source": [
    "body = df[df['video_title']==title].transcripts.iloc[0]\n",
    "print(len(body.split('. ')))\n",
    "print(body)"
   ]
  },
  {
   "cell_type": "markdown",
   "metadata": {},
   "source": [
    "## Generate Summary"
   ]
  },
  {
   "cell_type": "markdown",
   "metadata": {},
   "source": [
    "### Initialize Summarizer"
   ]
  },
  {
   "cell_type": "code",
   "execution_count": 10,
   "metadata": {},
   "outputs": [
    {
     "name": "stderr",
     "output_type": "stream",
     "text": [
      "Some weights of the model checkpoint at distilbert-base-uncased were not used when initializing DistilBertModel: ['vocab_transform.bias', 'vocab_projector.weight', 'vocab_layer_norm.weight', 'vocab_projector.bias', 'vocab_layer_norm.bias', 'vocab_transform.weight']\n",
      "- This IS expected if you are initializing DistilBertModel from the checkpoint of a model trained on another task or with another architecture (e.g. initializing a BertForSequenceClassification model from a BertForPreTraining model).\n",
      "- This IS NOT expected if you are initializing DistilBertModel from the checkpoint of a model that you expect to be exactly identical (initializing a BertForSequenceClassification model from a BertForSequenceClassification model).\n"
     ]
    }
   ],
   "source": [
    "model = Summarizer('distilbert-base-uncased', hidden=[-2], hidden_concat=True, random_state=42)"
   ]
  },
  {
   "cell_type": "markdown",
   "metadata": {},
   "source": [
    "### Generate Result"
   ]
  },
  {
   "cell_type": "code",
   "execution_count": 12,
   "metadata": {},
   "outputs": [],
   "source": [
    "result = model(body, num_sentences=6, use_first=False) #min_length=60"
   ]
  },
  {
   "cell_type": "markdown",
   "metadata": {},
   "source": [
    "### Print Result"
   ]
  },
  {
   "cell_type": "code",
   "execution_count": 13,
   "metadata": {},
   "outputs": [
    {
     "data": {
      "text/plain": [
       "\"I mentioned to you that we're going to do some biweekly stand-ups, so here's what to do in a stand-up. Some of you who might have worked at tech companies or similar organizations might already know about them, but if you're new, here is roughly what we're going to do. When it comes time for your stand-up, you're going to get on your webcam, or your screen recording tool, doesn't matter. If you go over, that's fine, if you go under, that can also be okay. There is limited storage space on Slack, so please don't directly upload your video to Slack. Then I will be asking you to watch and comment on two other classmates stand-ups, one stand up per team every two weeks, don't worry, I will remind you when they are coming, you will not be in the dark about this, and I can also create, you know, I'll put one in the channel, a demo, so you can see a real one.\""
      ]
     },
     "execution_count": 13,
     "metadata": {},
     "output_type": "execute_result"
    }
   ],
   "source": [
    "result"
   ]
  },
  {
   "cell_type": "markdown",
   "metadata": {},
   "source": [
    "## Apply to All Transcripts\n"
   ]
  },
  {
   "cell_type": "code",
   "execution_count": 15,
   "metadata": {},
   "outputs": [],
   "source": [
    "df['summary'] = df['transcripts'].apply(lambda x: model(x, num_sentences=6, use_first=False))"
   ]
  },
  {
   "cell_type": "code",
   "execution_count": 18,
   "metadata": {},
   "outputs": [
    {
     "data": {
      "text/html": [
       "<div>\n",
       "<style scoped>\n",
       "    .dataframe tbody tr th:only-of-type {\n",
       "        vertical-align: middle;\n",
       "    }\n",
       "\n",
       "    .dataframe tbody tr th {\n",
       "        vertical-align: top;\n",
       "    }\n",
       "\n",
       "    .dataframe thead th {\n",
       "        text-align: right;\n",
       "    }\n",
       "</style>\n",
       "<table border=\"1\" class=\"dataframe\">\n",
       "  <thead>\n",
       "    <tr style=\"text-align: right;\">\n",
       "      <th></th>\n",
       "      <th>course_id</th>\n",
       "      <th>video_title</th>\n",
       "      <th>transcripts</th>\n",
       "      <th>length</th>\n",
       "      <th>summary</th>\n",
       "    </tr>\n",
       "  </thead>\n",
       "  <tbody>\n",
       "    <tr>\n",
       "      <td>0</td>\n",
       "      <td>siads697698</td>\n",
       "      <td>recording-of-elle-o-brien-office-hours-siads-6...</td>\n",
       "      <td>We'll see if anybody is joining us today. What...</td>\n",
       "      <td>20293</td>\n",
       "      <td>Because at first time, I was thinking about us...</td>\n",
       "    </tr>\n",
       "    <tr>\n",
       "      <td>1</td>\n",
       "      <td>siads697698</td>\n",
       "      <td>recording-of-elle-o-brien-office-hours-siads-6...</td>\n",
       "      <td>I'm going to do this, Git log.one line and tha...</td>\n",
       "      <td>20294</td>\n",
       "      <td>In this branch, let's create a new file and ca...</td>\n",
       "    </tr>\n",
       "    <tr>\n",
       "      <td>2</td>\n",
       "      <td>siads697698</td>\n",
       "      <td>recording-of-elle-o-brien-office-hours-siads-6...</td>\n",
       "      <td>Well, not sure if anybody is joining this morn...</td>\n",
       "      <td>21840</td>\n",
       "      <td>If that doesn't get you exactly what you want,...</td>\n",
       "    </tr>\n",
       "    <tr>\n",
       "      <td>3</td>\n",
       "      <td>siads697698</td>\n",
       "      <td>recording-of-elle-o-brien-office-hours-siads-6...</td>\n",
       "      <td>now. Cool. There's lots of stuff here. Wow, l...</td>\n",
       "      <td>21840</td>\n",
       "      <td>If you're not very comfortable doing terminal ...</td>\n",
       "    </tr>\n",
       "    <tr>\n",
       "      <td>4</td>\n",
       "      <td>siads697698</td>\n",
       "      <td>recording-of-elle-o-brien-office-hours-siads-6...</td>\n",
       "      <td>Hello, nice to meet you. &gt;&gt; Nice to meet you t...</td>\n",
       "      <td>24317</td>\n",
       "      <td>&gt;&gt; Yeah, you can do that too, so today, I'm go...</td>\n",
       "    </tr>\n",
       "    <tr>\n",
       "      <td>5</td>\n",
       "      <td>siads697698</td>\n",
       "      <td>recording-of-elle-o-brien-office-hours-siads-6...</td>\n",
       "      <td>model perhaps we don't have any rules like th...</td>\n",
       "      <td>24317</td>\n",
       "      <td>And so the ideal model for each one could, it ...</td>\n",
       "    </tr>\n",
       "    <tr>\n",
       "      <td>6</td>\n",
       "      <td>siads697698</td>\n",
       "      <td>how-to-write-an-effective-blog-post</td>\n",
       "      <td>It's not enough to just do data science on you...</td>\n",
       "      <td>7725</td>\n",
       "      <td>It could be that you've done something that ot...</td>\n",
       "    </tr>\n",
       "    <tr>\n",
       "      <td>7</td>\n",
       "      <td>siads697698</td>\n",
       "      <td>how-to-do-a-standup</td>\n",
       "      <td>I mentioned to you that we're going to do some...</td>\n",
       "      <td>3253</td>\n",
       "      <td>I mentioned to you that we're going to do some...</td>\n",
       "    </tr>\n",
       "    <tr>\n",
       "      <td>8</td>\n",
       "      <td>siads697698</td>\n",
       "      <td>how-to-collaborate-with-a-team</td>\n",
       "      <td>One of the most unexpectedly challenging parts...</td>\n",
       "      <td>13279</td>\n",
       "      <td>I don't know what a really reliable and certai...</td>\n",
       "    </tr>\n",
       "    <tr>\n",
       "      <td>9</td>\n",
       "      <td>siads697698</td>\n",
       "      <td>capstone-overview</td>\n",
       "      <td>Hi, welcome to the capstone. My name's Dr. Ell...</td>\n",
       "      <td>5438</td>\n",
       "      <td>Office hours are not required or expected of y...</td>\n",
       "    </tr>\n",
       "    <tr>\n",
       "      <td>10</td>\n",
       "      <td>siads697698</td>\n",
       "      <td>how-to-write-documentation-for-your-project-re...</td>\n",
       "      <td>As part of turning in your final project, you'...</td>\n",
       "      <td>11874</td>\n",
       "      <td>If you're not too familiar with GitHub before,...</td>\n",
       "    </tr>\n",
       "    <tr>\n",
       "      <td>11</td>\n",
       "      <td>siads697698</td>\n",
       "      <td>recording-of-elle-o-brien-office-hours-siads-6...</td>\n",
       "      <td>Okay, we'll see if anybody shows up in the nex...</td>\n",
       "      <td>28042</td>\n",
       "      <td>So I don't know if that really tells me anythi...</td>\n",
       "    </tr>\n",
       "    <tr>\n",
       "      <td>12</td>\n",
       "      <td>siads697698</td>\n",
       "      <td>recording-of-elle-o-brien-office-hours-siads-6...</td>\n",
       "      <td>All right, good morning. What we going to do i...</td>\n",
       "      <td>32047</td>\n",
       "      <td>So if I go to Google Scholar, this is, this is...</td>\n",
       "    </tr>\n",
       "    <tr>\n",
       "      <td>13</td>\n",
       "      <td>siads697698</td>\n",
       "      <td>recording-of-elle-o-brien-office-hours-siads-6...</td>\n",
       "      <td>All right we'll see if anybody joins but it's ...</td>\n",
       "      <td>23689</td>\n",
       "      <td>&gt;&gt; I do I I sent it to Alex actually said I wa...</td>\n",
       "    </tr>\n",
       "    <tr>\n",
       "      <td>14</td>\n",
       "      <td>siads697698</td>\n",
       "      <td>recording-of-elle-o-brien-office-hours-siads-6...</td>\n",
       "      <td>aving your own computer, what's your workflow ...</td>\n",
       "      <td>23690</td>\n",
       "      <td>aving your own computer, what's your workflow ...</td>\n",
       "    </tr>\n",
       "  </tbody>\n",
       "</table>\n",
       "</div>"
      ],
      "text/plain": [
       "      course_id                                        video_title  \\\n",
       "0   siads697698  recording-of-elle-o-brien-office-hours-siads-6...   \n",
       "1   siads697698  recording-of-elle-o-brien-office-hours-siads-6...   \n",
       "2   siads697698  recording-of-elle-o-brien-office-hours-siads-6...   \n",
       "3   siads697698  recording-of-elle-o-brien-office-hours-siads-6...   \n",
       "4   siads697698  recording-of-elle-o-brien-office-hours-siads-6...   \n",
       "5   siads697698  recording-of-elle-o-brien-office-hours-siads-6...   \n",
       "6   siads697698                how-to-write-an-effective-blog-post   \n",
       "7   siads697698                                how-to-do-a-standup   \n",
       "8   siads697698                     how-to-collaborate-with-a-team   \n",
       "9   siads697698                                  capstone-overview   \n",
       "10  siads697698  how-to-write-documentation-for-your-project-re...   \n",
       "11  siads697698  recording-of-elle-o-brien-office-hours-siads-6...   \n",
       "12  siads697698  recording-of-elle-o-brien-office-hours-siads-6...   \n",
       "13  siads697698  recording-of-elle-o-brien-office-hours-siads-6...   \n",
       "14  siads697698  recording-of-elle-o-brien-office-hours-siads-6...   \n",
       "\n",
       "                                          transcripts  length  \\\n",
       "0   We'll see if anybody is joining us today. What...   20293   \n",
       "1   I'm going to do this, Git log.one line and tha...   20294   \n",
       "2   Well, not sure if anybody is joining this morn...   21840   \n",
       "3    now. Cool. There's lots of stuff here. Wow, l...   21840   \n",
       "4   Hello, nice to meet you. >> Nice to meet you t...   24317   \n",
       "5    model perhaps we don't have any rules like th...   24317   \n",
       "6   It's not enough to just do data science on you...    7725   \n",
       "7   I mentioned to you that we're going to do some...    3253   \n",
       "8   One of the most unexpectedly challenging parts...   13279   \n",
       "9   Hi, welcome to the capstone. My name's Dr. Ell...    5438   \n",
       "10  As part of turning in your final project, you'...   11874   \n",
       "11  Okay, we'll see if anybody shows up in the nex...   28042   \n",
       "12  All right, good morning. What we going to do i...   32047   \n",
       "13  All right we'll see if anybody joins but it's ...   23689   \n",
       "14  aving your own computer, what's your workflow ...   23690   \n",
       "\n",
       "                                              summary  \n",
       "0   Because at first time, I was thinking about us...  \n",
       "1   In this branch, let's create a new file and ca...  \n",
       "2   If that doesn't get you exactly what you want,...  \n",
       "3   If you're not very comfortable doing terminal ...  \n",
       "4   >> Yeah, you can do that too, so today, I'm go...  \n",
       "5   And so the ideal model for each one could, it ...  \n",
       "6   It could be that you've done something that ot...  \n",
       "7   I mentioned to you that we're going to do some...  \n",
       "8   I don't know what a really reliable and certai...  \n",
       "9   Office hours are not required or expected of y...  \n",
       "10  If you're not too familiar with GitHub before,...  \n",
       "11  So I don't know if that really tells me anythi...  \n",
       "12  So if I go to Google Scholar, this is, this is...  \n",
       "13  >> I do I I sent it to Alex actually said I wa...  \n",
       "14  aving your own computer, what's your workflow ...  "
      ]
     },
     "execution_count": 18,
     "metadata": {},
     "output_type": "execute_result"
    }
   ],
   "source": [
    "df"
   ]
  },
  {
   "cell_type": "markdown",
   "metadata": {},
   "source": [
    "## Save DataFrame with Feature Vectors\n",
    "We save the dataset with protein sequence, fold classification, and feature vectors as a Pandas dataframe for further analysis."
   ]
  },
  {
   "cell_type": "code",
   "execution_count": 17,
   "metadata": {},
   "outputs": [],
   "source": [
    "df.to_csv(\"./intermediate_data/transcripts_{}_summaries.csv\".format(course))"
   ]
  },
  {
   "cell_type": "markdown",
   "metadata": {},
   "source": [
    "## Next step\n",
    "After you saved the dataset here, run the next step in the workflow [4-KeywordExtraction.ipynb](./4-KeywordExtraction.ipynb) or go back go back to [0-Workflow.ipynb](./0-Workflow.ipynb)."
   ]
  },
  {
   "cell_type": "markdown",
   "metadata": {},
   "source": [
    "---\n",
    "\n",
    "**Authors:** [Wei Zhou](mailto:weiwzhou@umich.edu), [Nick Capaldini](mailto:nickcaps@umich.edu), University of Michigan, August 21, 2022\n",
    "\n",
    "---"
   ]
  },
  {
   "cell_type": "code",
   "execution_count": null,
   "metadata": {},
   "outputs": [],
   "source": []
  }
 ],
 "metadata": {
  "kernelspec": {
   "display_name": "Python 3",
   "language": "python",
   "name": "python3"
  },
  "language_info": {
   "codemirror_mode": {
    "name": "ipython",
    "version": 3
   },
   "file_extension": ".py",
   "mimetype": "text/x-python",
   "name": "python",
   "nbconvert_exporter": "python",
   "pygments_lexer": "ipython3",
   "version": "3.7.4"
  }
 },
 "nbformat": 4,
 "nbformat_minor": 4
}
