{
 "cells": [
  {
   "cell_type": "markdown",
   "metadata": {},
   "source": [
    "# ML Product Team Capstone"
   ]
  },
  {
   "cell_type": "markdown",
   "metadata": {},
   "source": [
    "## The Coursera Summarizer"
   ]
  },
  {
   "cell_type": "markdown",
   "metadata": {},
   "source": [
    "**The notebooks in this directory demonstrate how to build a  machine learning tool to extract hyperlinks from video transcripts**"
   ]
  },
  {
   "cell_type": "markdown",
   "metadata": {},
   "source": [
    "## Introduction"
   ]
  },
  {
   "cell_type": "markdown",
   "metadata": {},
   "source": [
    "Coursera course content videos have two key information components - video and transcript. Content within the trascripts can often be hard to undersand and require further search methods such a googling and reading wikipedia pages."
   ]
  },
  {
   "cell_type": "markdown",
   "metadata": {},
   "source": [
    "## Goal\n",
    "This notebook demonstrates how to create a hyperlink and summary based web application for videotranscripts.\n",
    "\n",
    "**Run the following notebooks and explore how we build the model and deployed it to our website.**"
   ]
  },
  {
   "cell_type": "markdown",
   "metadata": {},
   "source": [
    "## 1. Create Dataset"
   ]
  },
  {
   "cell_type": "markdown",
   "metadata": {},
   "source": [
    "First, we extract the raw coursera data with all of the transcripts used in the MADS program.\n",
    "\n",
    "[Coursera Downloader Documentation](https://github.com/coursera-dl/coursera-dl)\n",
    "\n",
    "Run the following notebook to extract the raw coursera data."
   ]
  },
  {
   "cell_type": "markdown",
   "metadata": {},
   "source": [
    "[1-CreateDataset.ipynb](./1-CreateDataset.ipynb)"
   ]
  },
  {
   "cell_type": "markdown",
   "metadata": {},
   "source": [
    "This notebook saves the course data in the folder `./data`."
   ]
  },
  {
   "cell_type": "markdown",
   "metadata": {},
   "source": [
    "## 2. Clean Dataset"
   ]
  },
  {
   "cell_type": "markdown",
   "metadata": {},
   "source": [
    "After the raw data has been gathered, we clean the dataset to only keep the course transcripts.\n",
    "\n",
    "Run the following notebook to extract the transcripts from the raw course data."
   ]
  },
  {
   "cell_type": "markdown",
   "metadata": {},
   "source": [
    "[2-CleanDataset.ipynb](./2-CleanDataset.ipynb) "
   ]
  },
  {
   "cell_type": "markdown",
   "metadata": {},
   "source": [
    "This notebook saves the dataset in the file `./intermediate_data/transcripts_<course_name>.csv`."
   ]
  },
  {
   "cell_type": "markdown",
   "metadata": {},
   "source": [
    "## 3. Transcript Summarization"
   ]
  },
  {
   "cell_type": "markdown",
   "metadata": {},
   "source": [
    "The next step is to generate summaries for each of the transcripts. Here we use the Bert Extractive Summarizer and SentenceTransformers libraries to generate our transcript summaries.\n",
    "\n",
    "[Bert Summarizer Documentation](https://pypi.org/project/bert-extractive-summarizer/#description)\n",
    "\n",
    "[SentenceTransformers Documentation](https://www.sbert.net/)\n",
    "\n",
    "\n",
    "Run the following notebook to generate transcript summaries. \n",
    "\n"
   ]
  },
  {
   "cell_type": "markdown",
   "metadata": {},
   "source": [
    "[3-TranscriptSummarization.ipynb](./3-TranscriptSummarization.ipynb)"
   ]
  },
  {
   "cell_type": "markdown",
   "metadata": {},
   "source": [
    "This notebook saves the dataset in the file `./intermediate_data/transcripts_<course_name>_summaries.csv`."
   ]
  },
  {
   "cell_type": "markdown",
   "metadata": {},
   "source": [
    "## 4. Keyword Extraction"
   ]
  },
  {
   "cell_type": "markdown",
   "metadata": {},
   "source": [
    "Next we generate keywords for each of the transcripts. We do this using the keyphrase_vectorizers, spacy, and keybert libraries to generate our transcript keywords.\n",
    "\n",
    "[Bert Summarizer Documentation](https://pypi.org/project/bert-extractive-summarizer/#description)\n",
    "\n",
    "[SentenceTransformers Documentation](https://www.sbert.net/)\n",
    "\n",
    "\n",
    "Run the following notebook to generate transcript keywords. \n"
   ]
  },
  {
   "cell_type": "markdown",
   "metadata": {},
   "source": [
    "[4-KeywordExtraction.ipynb](./4-KeywordExtraction.ipynb)"
   ]
  },
  {
   "cell_type": "markdown",
   "metadata": {},
   "source": [
    "This notebook saves the dataset in the file `./intermediate_data/transcripts_<course_name>_summaries_keywords.csv`."
   ]
  },
  {
   "cell_type": "markdown",
   "metadata": {},
   "source": [
    "## 5. Hyperlink Generation"
   ]
  },
  {
   "cell_type": "markdown",
   "metadata": {},
   "source": [
    "After we have keywords created, we want useul weblinks for them. To do this we use the wikipedia libary to hyperlinks for wikipedia pages for each keyword.\n",
    "\n",
    "[Wikipedia Documentation](https://wikipedia.readthedocs.io/en/latest/)\n",
    "\n",
    "Run the following notebook to generate hyperlinks for each keyword."
   ]
  },
  {
   "cell_type": "markdown",
   "metadata": {},
   "source": [
    "[5-HyperlinkGeneration.ipynb](./5-HyperlinkGeneration.ipynb)"
   ]
  },
  {
   "cell_type": "markdown",
   "metadata": {},
   "source": [
    "This notebook saves the dataset in the file `./intermediate_data/transcripts_<course_name>_summaries_keywords_urls.csv`."
   ]
  },
  {
   "cell_type": "markdown",
   "metadata": {},
   "source": [
    "## 6. Demo"
   ]
  },
  {
   "cell_type": "markdown",
   "metadata": {},
   "source": [
    "With the final hyperlinks generated the information can then be deployed to a web application for use. We have created a website to host the appliction as well as our project blog.\n",
    "\n",
    "To access the tool you must follow these steps.\n",
    "1. Go to the [Coursera Summarizer](https://QEJSCSCHDK5N6XTY.anvil.app/TRSK7WPDLEL4Z6NUKLZYBHLJ) site\n",
    "2. Click \"Demo\"\n",
    "3. Enter the password \"Bagel\"\n",
    "4. Enter one of the following URLs\n",
    "      - https://www.coursera.org/learn/siads697698/lecture/g3pi8/capstone-overview\n",
    "      - https://www.coursera.org/learn/siads697698/lecture/3vwIb/how-to-do-a-standup\n",
    "      - https://www.coursera.org/learn/siads697698/lecture/PBRXG/how-to-write-an-effective-blog-post\n",
    "      - https://www.coursera.org/learn/siads697698/lecture/USD5r/how-to-collaborate-with-a-team\n",
    "      - https://www.coursera.org/learn/siads697698/lecture/uPBqO/how-to-write-documentation-for-your-project-repository\n",
    "\n"
   ]
  },
  {
   "cell_type": "markdown",
   "metadata": {},
   "source": [
    "## Version and Hardware Information\n",
    "Here we use the watermark extension to print software, operating system, and hardware version information."
   ]
  },
  {
   "cell_type": "code",
   "execution_count": 2,
   "metadata": {},
   "outputs": [
    {
     "name": "stdout",
     "output_type": "stream",
     "text": [
      "The watermark extension is already loaded. To reload it, use:\n",
      "  %reload_ext watermark\n",
      "Python implementation: CPython\n",
      "Python version       : 3.7.4\n",
      "IPython version      : 7.8.0\n",
      "\n",
      "ipywidgets           : 7.5.1\n",
      "matplotlib           : 2.2.3\n",
      "numpy                : 1.21.6\n",
      "pandas               : 0.25.1\n",
      "sklearn              : 1.0.2\n",
      "gensim               : 4.2.0\n",
      "tqdm                 : 4.64.0\n",
      "nltk                 : 3.7\n",
      "collections          : unknown\n",
      "spacy                : 3.4.0\n",
      "string               : unknown\n",
      "keybert              : 0.5.1\n",
      "keyphrase_vectorizers: 0.0.10\n",
      "wikipedia            : 1.4.0\n",
      "getpass              : unknown\n",
      "summarizer           : unknown\n",
      "\n",
      "Compiler    : Clang 4.0.1 (tags/RELEASE_401/final)\n",
      "OS          : Darwin\n",
      "Release     : 21.5.0\n",
      "Machine     : x86_64\n",
      "Processor   : i386\n",
      "CPU cores   : 16\n",
      "Architecture: 64bit\n",
      "\n"
     ]
    }
   ],
   "source": [
    "%load_ext watermark\n",
    "%watermark -v -m -p ipywidgets,matplotlib,numpy,pandas,sklearn,gensim,tqdm,nltk,collections,spacy,string,keybert,keyphrase_vectorizers,wikipedia,getpass,summarizer"
   ]
  },
  {
   "cell_type": "markdown",
   "metadata": {},
   "source": [
    "---\n",
    "\n",
    "**Authors:** [Wei Zhou](mailto:weiwzhou@umich.edu), [Nick Capaldini](mailto:nickcaps@umich.edu), University of Michigan, August 21, 2022\n",
    "\n",
    "---"
   ]
  }
 ],
 "metadata": {
  "kernelspec": {
   "display_name": "Python 3",
   "language": "python",
   "name": "python3"
  },
  "language_info": {
   "codemirror_mode": {
    "name": "ipython",
    "version": 3
   },
   "file_extension": ".py",
   "mimetype": "text/x-python",
   "name": "python",
   "nbconvert_exporter": "python",
   "pygments_lexer": "ipython3",
   "version": "3.7.4"
  }
 },
 "nbformat": 4,
 "nbformat_minor": 4
}
