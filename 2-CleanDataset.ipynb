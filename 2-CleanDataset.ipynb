{
 "cells": [
  {
   "cell_type": "markdown",
   "metadata": {},
   "source": [
    "# Clean Dataset\n",
    "This notebook takes all the downloaded data from Coursera and exracts just the course transcripts."
   ]
  },
  {
   "cell_type": "code",
   "execution_count": 1,
   "metadata": {},
   "outputs": [],
   "source": [
    "import os\n",
    "import pandas as pd\n",
    "import numpy as np\n",
    "import matplotlib.pyplot as plt\n",
    "import re"
   ]
  },
  {
   "cell_type": "markdown",
   "metadata": {},
   "source": [
    "## Input Course URL\n",
    "The course id can be found in the hyperlink for any page in the course."
   ]
  },
  {
   "cell_type": "code",
   "execution_count": 2,
   "metadata": {},
   "outputs": [],
   "source": [
    "url = 'https://www.coursera.org/learn/siads697698/lecture/3vwIb/how-to-do-a-standup'\n",
    "course = re.search('(?<=coursera.org/learn/)(\\w+)', url).group(0)\n",
    "lecture = url.split('/')[-1]"
   ]
  },
  {
   "cell_type": "code",
   "execution_count": 3,
   "metadata": {},
   "outputs": [
    {
     "name": "stdout",
     "output_type": "stream",
     "text": [
      "siads697698\n",
      "how-to-do-a-standup\n"
     ]
    }
   ],
   "source": [
    "print(course)\n",
    "print(lecture)"
   ]
  },
  {
   "cell_type": "markdown",
   "metadata": {},
   "source": [
    "## Load Directory"
   ]
  },
  {
   "cell_type": "code",
   "execution_count": 60,
   "metadata": {},
   "outputs": [
    {
     "name": "stdout",
     "output_type": "stream",
     "text": [
      "Course Already In Directory\n"
     ]
    }
   ],
   "source": [
    "directory = os.listdir('/Users/nicolascap/MADS/Capstone/intermediate_data')\n",
    "new = True\n",
    "for file in directory:\n",
    "    if course in file:\n",
    "        print(\"Course Already In Directory\")\n",
    "        new = False"
   ]
  },
  {
   "cell_type": "markdown",
   "metadata": {},
   "source": [
    "## Create List of Filepaths "
   ]
  },
  {
   "cell_type": "code",
   "execution_count": 5,
   "metadata": {},
   "outputs": [
    {
     "name": "stdout",
     "output_type": "stream",
     "text": [
      "11\n",
      "['/Users/nicolascap/MADS/Capstone/data/siads697698/04_week-4/03_office-hour-recordings/01_recording-of-elle-o-brien-office-hours-siads-697-698-on-22-07-19-08-00-31-02-07.en.txt', '/Users/nicolascap/MADS/Capstone/data/siads697698/02_week-2/03_office-hour-recording/01_recording-of-elle-o-brien-office-hours-siads-697-698-on-22-07-05-08-01-06-04-27.en.txt', '/Users/nicolascap/MADS/Capstone/data/siads697698/01_week-1/04_office-hour-recording/01_recording-of-elle-o-brien-office-hours-siads-697-698-on-22-06-28-07-57-42-03-17.en.txt', '/Users/nicolascap/MADS/Capstone/data/siads697698/01_week-1/02_videos/04_how-to-write-an-effective-blog-post.en.txt', '/Users/nicolascap/MADS/Capstone/data/siads697698/01_week-1/02_videos/05_how-to-do-a-standup.en.txt']\n"
     ]
    }
   ],
   "source": [
    "if new:\n",
    "    directory = os.getcwd()\n",
    "    filepaths=[]\n",
    "\n",
    "    for subdir, dirs, files in os.walk(directory):\n",
    "        for file in files:\n",
    "            filepath = subdir + os.sep + file\n",
    "\n",
    "            if filepath.endswith(\".txt\"):\n",
    "                c = re.search('(?<=data/)(\\w+)', filepath).group(0)\n",
    "                if c == course:\n",
    "                    filepaths.append(filepath)\n",
    "    print(len(filepaths))\n",
    "    print(filepaths[:5])\n",
    "else:\n",
    "    print(\"No need to run cell, files already in directory\")"
   ]
  },
  {
   "cell_type": "markdown",
   "metadata": {},
   "source": [
    "## Create Transcript DataFrame"
   ]
  },
  {
   "cell_type": "code",
   "execution_count": 6,
   "metadata": {},
   "outputs": [],
   "source": [
    "if new:\n",
    "    tup =[]\n",
    "    for file_path in filepaths: \n",
    "        f = open(file_path,'r')\n",
    "        A = f.read().replace('\\n',' ')\n",
    "        course_id = course\n",
    "        video_title = file_path.split('/')[-1].split('.')[0][3:]\n",
    "        if len(A) < 40000: #split long transcripts into two lines \n",
    "            tup.append((course_id, video_title, A))\n",
    "        else: \n",
    "            tup.append((course_id, video_title, A[:len(A)//2]))\n",
    "            tup.append((course_id, video_title, A[len(A)//2:]))\n",
    "\n",
    "    df = pd.DataFrame(tup,columns=['course_id','video_title', 'transcripts'])\n",
    "    df['length'] = df['transcripts'].str.len()\n",
    "    df = df[df.length != 0] \n",
    "    df\n",
    "else:\n",
    "    print(\"No need to run cell, files already in directory\")"
   ]
  },
  {
   "cell_type": "markdown",
   "metadata": {},
   "source": [
    "## Save Dataset\n",
    "We save the transcript dataset as a csv file for further analysis."
   ]
  },
  {
   "cell_type": "code",
   "execution_count": 7,
   "metadata": {},
   "outputs": [],
   "source": [
    "if new:\n",
    "    df.to_csv(\"./intermediate_data/transcripts_{}.csv\".format(course))\n",
    "else:\n",
    "    print(\"No need to run cell, files already in directory\")"
   ]
  },
  {
   "cell_type": "markdown",
   "metadata": {},
   "source": [
    "## Next step\n",
    "After you saved the dataset here, run the next step in the workflow [3-TranscriptSummarization.ipynb](./3-TranscriptSummarization.ipynb) or go back to [0-Workflow.ipynb](./0-Workflow.ipynb)."
   ]
  },
  {
   "cell_type": "markdown",
   "metadata": {},
   "source": [
    "---\n",
    "\n",
    "**Authors:** [Wei Zhou](mailto:weiwzhou@umich.edu), [Nick Capaldini](mailto:nickcaps@umich.edu), University of Michigan, August 21, 2022\n",
    "\n",
    "---"
   ]
  },
  {
   "cell_type": "code",
   "execution_count": null,
   "metadata": {},
   "outputs": [],
   "source": []
  }
 ],
 "metadata": {
  "kernelspec": {
   "display_name": "Python 3",
   "language": "python",
   "name": "python3"
  },
  "language_info": {
   "codemirror_mode": {
    "name": "ipython",
    "version": 3
   },
   "file_extension": ".py",
   "mimetype": "text/x-python",
   "name": "python",
   "nbconvert_exporter": "python",
   "pygments_lexer": "ipython3",
   "version": "3.7.4"
  }
 },
 "nbformat": 4,
 "nbformat_minor": 4
}
