{
 "cells": [
  {
   "cell_type": "markdown",
   "metadata": {},
   "source": [
    "# Keyword Extraction\n",
    "This notebook reads the transcript dataset and generates keywords using the keyphrase_vectorizers, spacy, and keybert libraries"
   ]
  },
  {
   "cell_type": "code",
   "execution_count": 1,
   "metadata": {},
   "outputs": [],
   "source": [
    "import pandas as pd\n",
    "from keyphrase_vectorizers import KeyphraseCountVectorizer\n",
    "import spacy\n",
    "from keybert import KeyBERT\n",
    "from collections import Counter\n",
    "from nltk.stem import WordNetLemmatizer\n",
    "import re\n",
    "import os"
   ]
  },
  {
   "cell_type": "markdown",
   "metadata": {},
   "source": [
    "## Input Course URL\n",
    "The course id can be found in the hyperlink for any page in the course."
   ]
  },
  {
   "cell_type": "code",
   "execution_count": 2,
   "metadata": {},
   "outputs": [],
   "source": [
    "url = 'https://www.coursera.org/learn/siads697698/lecture/3vwIb/how-to-do-a-standup'\n",
    "course = re.search('(?<=coursera.org/learn/)(\\w+)', url).group(0)"
   ]
  },
  {
   "cell_type": "markdown",
   "metadata": {},
   "source": [
    "## Load Directory"
   ]
  },
  {
   "cell_type": "code",
   "execution_count": 4,
   "metadata": {},
   "outputs": [
    {
     "name": "stdout",
     "output_type": "stream",
     "text": [
      "Course Already In Directory\n"
     ]
    }
   ],
   "source": [
    "directory = os.listdir('/Users/nicolascap/MADS/Capstone/intermediate_data')\n",
    "new = True\n",
    "for file in directory:\n",
    "    if '{}_summaries_keywords'.format(course) in file:\n",
    "        print(\"Course Already In Directory\")\n",
    "        new = False\n",
    "        break"
   ]
  },
  {
   "cell_type": "markdown",
   "metadata": {},
   "source": [
    "## Read in Transcript DataFrame"
   ]
  },
  {
   "cell_type": "code",
   "execution_count": 5,
   "metadata": {},
   "outputs": [
    {
     "data": {
      "text/html": [
       "<div>\n",
       "<style scoped>\n",
       "    .dataframe tbody tr th:only-of-type {\n",
       "        vertical-align: middle;\n",
       "    }\n",
       "\n",
       "    .dataframe tbody tr th {\n",
       "        vertical-align: top;\n",
       "    }\n",
       "\n",
       "    .dataframe thead th {\n",
       "        text-align: right;\n",
       "    }\n",
       "</style>\n",
       "<table border=\"1\" class=\"dataframe\">\n",
       "  <thead>\n",
       "    <tr style=\"text-align: right;\">\n",
       "      <th></th>\n",
       "      <th>course_id</th>\n",
       "      <th>video_title</th>\n",
       "      <th>transcripts</th>\n",
       "      <th>length</th>\n",
       "      <th>summary</th>\n",
       "    </tr>\n",
       "  </thead>\n",
       "  <tbody>\n",
       "    <tr>\n",
       "      <td>0</td>\n",
       "      <td>siads697698</td>\n",
       "      <td>recording-of-elle-o-brien-office-hours-siads-6...</td>\n",
       "      <td>We'll see if anybody is joining us today. What...</td>\n",
       "      <td>20293</td>\n",
       "      <td>Because at first time, I was thinking about us...</td>\n",
       "    </tr>\n",
       "    <tr>\n",
       "      <td>1</td>\n",
       "      <td>siads697698</td>\n",
       "      <td>recording-of-elle-o-brien-office-hours-siads-6...</td>\n",
       "      <td>I'm going to do this, Git log.one line and tha...</td>\n",
       "      <td>20294</td>\n",
       "      <td>In this branch, let's create a new file and ca...</td>\n",
       "    </tr>\n",
       "    <tr>\n",
       "      <td>2</td>\n",
       "      <td>siads697698</td>\n",
       "      <td>recording-of-elle-o-brien-office-hours-siads-6...</td>\n",
       "      <td>Well, not sure if anybody is joining this morn...</td>\n",
       "      <td>21840</td>\n",
       "      <td>If that doesn't get you exactly what you want,...</td>\n",
       "    </tr>\n",
       "    <tr>\n",
       "      <td>3</td>\n",
       "      <td>siads697698</td>\n",
       "      <td>recording-of-elle-o-brien-office-hours-siads-6...</td>\n",
       "      <td>now. Cool. There's lots of stuff here. Wow, l...</td>\n",
       "      <td>21840</td>\n",
       "      <td>If you're not very comfortable doing terminal ...</td>\n",
       "    </tr>\n",
       "    <tr>\n",
       "      <td>4</td>\n",
       "      <td>siads697698</td>\n",
       "      <td>recording-of-elle-o-brien-office-hours-siads-6...</td>\n",
       "      <td>Hello, nice to meet you. &gt;&gt; Nice to meet you t...</td>\n",
       "      <td>24317</td>\n",
       "      <td>&gt;&gt; Yeah, you can do that too, so today, I'm go...</td>\n",
       "    </tr>\n",
       "    <tr>\n",
       "      <td>5</td>\n",
       "      <td>siads697698</td>\n",
       "      <td>recording-of-elle-o-brien-office-hours-siads-6...</td>\n",
       "      <td>model perhaps we don't have any rules like th...</td>\n",
       "      <td>24317</td>\n",
       "      <td>And so the ideal model for each one could, it ...</td>\n",
       "    </tr>\n",
       "    <tr>\n",
       "      <td>6</td>\n",
       "      <td>siads697698</td>\n",
       "      <td>how-to-write-an-effective-blog-post</td>\n",
       "      <td>It's not enough to just do data science on you...</td>\n",
       "      <td>7725</td>\n",
       "      <td>It could be that you've done something that ot...</td>\n",
       "    </tr>\n",
       "    <tr>\n",
       "      <td>7</td>\n",
       "      <td>siads697698</td>\n",
       "      <td>how-to-do-a-standup</td>\n",
       "      <td>I mentioned to you that we're going to do some...</td>\n",
       "      <td>3253</td>\n",
       "      <td>I mentioned to you that we're going to do some...</td>\n",
       "    </tr>\n",
       "    <tr>\n",
       "      <td>8</td>\n",
       "      <td>siads697698</td>\n",
       "      <td>how-to-collaborate-with-a-team</td>\n",
       "      <td>One of the most unexpectedly challenging parts...</td>\n",
       "      <td>13279</td>\n",
       "      <td>I don't know what a really reliable and certai...</td>\n",
       "    </tr>\n",
       "    <tr>\n",
       "      <td>9</td>\n",
       "      <td>siads697698</td>\n",
       "      <td>capstone-overview</td>\n",
       "      <td>Hi, welcome to the capstone. My name's Dr. Ell...</td>\n",
       "      <td>5438</td>\n",
       "      <td>Office hours are not required or expected of y...</td>\n",
       "    </tr>\n",
       "    <tr>\n",
       "      <td>10</td>\n",
       "      <td>siads697698</td>\n",
       "      <td>how-to-write-documentation-for-your-project-re...</td>\n",
       "      <td>As part of turning in your final project, you'...</td>\n",
       "      <td>11874</td>\n",
       "      <td>If you're not too familiar with GitHub before,...</td>\n",
       "    </tr>\n",
       "    <tr>\n",
       "      <td>11</td>\n",
       "      <td>siads697698</td>\n",
       "      <td>recording-of-elle-o-brien-office-hours-siads-6...</td>\n",
       "      <td>Okay, we'll see if anybody shows up in the nex...</td>\n",
       "      <td>28042</td>\n",
       "      <td>So I don't know if that really tells me anythi...</td>\n",
       "    </tr>\n",
       "    <tr>\n",
       "      <td>12</td>\n",
       "      <td>siads697698</td>\n",
       "      <td>recording-of-elle-o-brien-office-hours-siads-6...</td>\n",
       "      <td>All right, good morning. What we going to do i...</td>\n",
       "      <td>32047</td>\n",
       "      <td>So if I go to Google Scholar, this is, this is...</td>\n",
       "    </tr>\n",
       "    <tr>\n",
       "      <td>13</td>\n",
       "      <td>siads697698</td>\n",
       "      <td>recording-of-elle-o-brien-office-hours-siads-6...</td>\n",
       "      <td>All right we'll see if anybody joins but it's ...</td>\n",
       "      <td>23689</td>\n",
       "      <td>&gt;&gt; I do I I sent it to Alex actually said I wa...</td>\n",
       "    </tr>\n",
       "    <tr>\n",
       "      <td>14</td>\n",
       "      <td>siads697698</td>\n",
       "      <td>recording-of-elle-o-brien-office-hours-siads-6...</td>\n",
       "      <td>aving your own computer, what's your workflow ...</td>\n",
       "      <td>23690</td>\n",
       "      <td>aving your own computer, what's your workflow ...</td>\n",
       "    </tr>\n",
       "  </tbody>\n",
       "</table>\n",
       "</div>"
      ],
      "text/plain": [
       "      course_id                                        video_title  \\\n",
       "0   siads697698  recording-of-elle-o-brien-office-hours-siads-6...   \n",
       "1   siads697698  recording-of-elle-o-brien-office-hours-siads-6...   \n",
       "2   siads697698  recording-of-elle-o-brien-office-hours-siads-6...   \n",
       "3   siads697698  recording-of-elle-o-brien-office-hours-siads-6...   \n",
       "4   siads697698  recording-of-elle-o-brien-office-hours-siads-6...   \n",
       "5   siads697698  recording-of-elle-o-brien-office-hours-siads-6...   \n",
       "6   siads697698                how-to-write-an-effective-blog-post   \n",
       "7   siads697698                                how-to-do-a-standup   \n",
       "8   siads697698                     how-to-collaborate-with-a-team   \n",
       "9   siads697698                                  capstone-overview   \n",
       "10  siads697698  how-to-write-documentation-for-your-project-re...   \n",
       "11  siads697698  recording-of-elle-o-brien-office-hours-siads-6...   \n",
       "12  siads697698  recording-of-elle-o-brien-office-hours-siads-6...   \n",
       "13  siads697698  recording-of-elle-o-brien-office-hours-siads-6...   \n",
       "14  siads697698  recording-of-elle-o-brien-office-hours-siads-6...   \n",
       "\n",
       "                                          transcripts  length  \\\n",
       "0   We'll see if anybody is joining us today. What...   20293   \n",
       "1   I'm going to do this, Git log.one line and tha...   20294   \n",
       "2   Well, not sure if anybody is joining this morn...   21840   \n",
       "3    now. Cool. There's lots of stuff here. Wow, l...   21840   \n",
       "4   Hello, nice to meet you. >> Nice to meet you t...   24317   \n",
       "5    model perhaps we don't have any rules like th...   24317   \n",
       "6   It's not enough to just do data science on you...    7725   \n",
       "7   I mentioned to you that we're going to do some...    3253   \n",
       "8   One of the most unexpectedly challenging parts...   13279   \n",
       "9   Hi, welcome to the capstone. My name's Dr. Ell...    5438   \n",
       "10  As part of turning in your final project, you'...   11874   \n",
       "11  Okay, we'll see if anybody shows up in the nex...   28042   \n",
       "12  All right, good morning. What we going to do i...   32047   \n",
       "13  All right we'll see if anybody joins but it's ...   23689   \n",
       "14  aving your own computer, what's your workflow ...   23690   \n",
       "\n",
       "                                              summary  \n",
       "0   Because at first time, I was thinking about us...  \n",
       "1   In this branch, let's create a new file and ca...  \n",
       "2   If that doesn't get you exactly what you want,...  \n",
       "3   If you're not very comfortable doing terminal ...  \n",
       "4   >> Yeah, you can do that too, so today, I'm go...  \n",
       "5   And so the ideal model for each one could, it ...  \n",
       "6   It could be that you've done something that ot...  \n",
       "7   I mentioned to you that we're going to do some...  \n",
       "8   I don't know what a really reliable and certai...  \n",
       "9   Office hours are not required or expected of y...  \n",
       "10  If you're not too familiar with GitHub before,...  \n",
       "11  So I don't know if that really tells me anythi...  \n",
       "12  So if I go to Google Scholar, this is, this is...  \n",
       "13  >> I do I I sent it to Alex actually said I wa...  \n",
       "14  aving your own computer, what's your workflow ...  "
      ]
     },
     "execution_count": 5,
     "metadata": {},
     "output_type": "execute_result"
    }
   ],
   "source": [
    "df = pd.read_csv(\"./intermediate_data/transcripts_{}_summaries.csv\".format(course)).drop(['Unnamed: 0'], axis=1)\n",
    "df"
   ]
  },
  {
   "cell_type": "markdown",
   "metadata": {},
   "source": [
    "## Generate First Transcript for Keywords"
   ]
  },
  {
   "cell_type": "code",
   "execution_count": 6,
   "metadata": {},
   "outputs": [],
   "source": [
    "new_line_full = df.transcripts.iloc[6] \n",
    "new_line_summary = df.summary.iloc[6] "
   ]
  },
  {
   "cell_type": "markdown",
   "metadata": {},
   "source": [
    "## Initialize Vectorizer"
   ]
  },
  {
   "cell_type": "code",
   "execution_count": 7,
   "metadata": {},
   "outputs": [],
   "source": [
    "vectorizer = KeyphraseCountVectorizer()\n",
    "nlp=spacy.load('en_core_web_sm')"
   ]
  },
  {
   "cell_type": "markdown",
   "metadata": {},
   "source": [
    "## Initialize Model"
   ]
  },
  {
   "cell_type": "code",
   "execution_count": 8,
   "metadata": {},
   "outputs": [],
   "source": [
    "kw_model = KeyBERT()"
   ]
  },
  {
   "cell_type": "markdown",
   "metadata": {},
   "source": [
    "## Generate Full Text Keywords"
   ]
  },
  {
   "cell_type": "code",
   "execution_count": 10,
   "metadata": {},
   "outputs": [
    {
     "data": {
      "text/plain": [
       "[('professional data science', 0.4502),\n",
       " ('data scientist', 0.4373),\n",
       " ('blog', 0.4039),\n",
       " ('data science career', 0.3948),\n",
       " ('blogs', 0.3813),\n",
       " ('data science', 0.3778),\n",
       " ('data science project', 0.3187),\n",
       " ('data', 0.3146),\n",
       " ('work', 0.3116),\n",
       " ('writing', 0.3071)]"
      ]
     },
     "execution_count": 10,
     "metadata": {},
     "output_type": "execute_result"
    }
   ],
   "source": [
    "res_full = kw_model.extract_keywords(docs=new_line_full,vectorizer=KeyphraseCountVectorizer(), top_n=10)\n",
    "res_full"
   ]
  },
  {
   "cell_type": "markdown",
   "metadata": {},
   "source": [
    "## Generate Summary Text Keywords"
   ]
  },
  {
   "cell_type": "code",
   "execution_count": 11,
   "metadata": {},
   "outputs": [
    {
     "data": {
      "text/plain": [
       "[('voice', 0.4438),\n",
       " ('editing', 0.3516),\n",
       " ('model', 0.3113),\n",
       " ('model architecture', 0.2947),\n",
       " ('text', 0.1829),\n",
       " ('category', 0.1523),\n",
       " ('picture', 0.1472),\n",
       " ('other people', 0.1382),\n",
       " ('lot', 0.1288),\n",
       " ('enough room', 0.1278)]"
      ]
     },
     "execution_count": 11,
     "metadata": {},
     "output_type": "execute_result"
    }
   ],
   "source": [
    "res_summary = kw_model.extract_keywords(docs=new_line_summary,vectorizer=KeyphraseCountVectorizer(), top_n=10)\n",
    "res_summary"
   ]
  },
  {
   "cell_type": "markdown",
   "metadata": {},
   "source": [
    "## Combine Keywords and Take Top 5"
   ]
  },
  {
   "cell_type": "code",
   "execution_count": 12,
   "metadata": {},
   "outputs": [],
   "source": [
    "top_5 = res_full + res_summary\n",
    "top_5.sort(key = lambda x: x[1], reverse=True)\n",
    "d = dict(top_5)#dict(top_5[:3])\n",
    "k = [k for k,v in d.items()]\n",
    "z = [z.split() for z in k]\n",
    "z = sum(z, [])\n",
    "lemmatizer = WordNetLemmatizer()\n",
    "z_1 = [lemmatizer.lemmatize(z_1) for z_1 in z ]\n",
    "\n",
    "c = Counter(z_1)\n",
    "countDict = dict(c) \n",
    "rep_words = [word for word, occurrences in countDict.items() if occurrences >= 2]\n",
    "\n",
    "tracker_dict = {word: False for word in rep_words}\n",
    "remove_list = []\n",
    "for i in k:\n",
    "    remove = False\n",
    "    for word in rep_words:\n",
    "        if word in i:\n",
    "            if tracker_dict[word] == False:\n",
    "                tracker_dict[word] = True\n",
    "            else:\n",
    "                #print(word, i)\n",
    "                remove=True\n",
    "    if remove:\n",
    "        remove_list.append(i)\n",
    "\n",
    "for i in remove_list:\n",
    "    k.remove(i)\n",
    "top_5 = k[:5]"
   ]
  },
  {
   "cell_type": "code",
   "execution_count": 13,
   "metadata": {},
   "outputs": [
    {
     "data": {
      "text/plain": [
       "['professional data science', 'voice', 'blog', 'editing', 'work']"
      ]
     },
     "execution_count": 13,
     "metadata": {},
     "output_type": "execute_result"
    }
   ],
   "source": [
    "top_5"
   ]
  },
  {
   "cell_type": "markdown",
   "metadata": {},
   "source": [
    "## Apply to All Transcripts"
   ]
  },
  {
   "cell_type": "code",
   "execution_count": 14,
   "metadata": {},
   "outputs": [],
   "source": [
    "def keyword_creation(transcript, summary):\n",
    "    res_full = kw_model.extract_keywords(docs=transcript,vectorizer=KeyphraseCountVectorizer(), top_n=10)\n",
    "    res_summary = kw_model.extract_keywords(docs=summary,vectorizer=KeyphraseCountVectorizer(), top_n=10)\n",
    "    top_5 = res_full + res_summary\n",
    "    top_5.sort(key = lambda x: x[1], reverse=True)\n",
    "    d = dict(top_5)\n",
    "    k = [k for k,v in d.items()]\n",
    "    ## simplification\n",
    "    \n",
    "    z = [z.split() for z in k]\n",
    "    z = sum(z, [])\n",
    "    lemmatizer = WordNetLemmatizer()\n",
    "    z_1 = [lemmatizer.lemmatize(z_1) for z_1 in z ]\n",
    "\n",
    "    c = Counter(z_1)\n",
    "    countDict = dict(c) \n",
    "    rep_words = [word for word, occurrences in countDict.items() if occurrences >= 2]\n",
    "\n",
    "    tracker_dict = {word: False for word in rep_words}\n",
    "    remove_list = []\n",
    "    for i in k:\n",
    "        remove = False\n",
    "        for word in rep_words:\n",
    "            if word in i:\n",
    "                if tracker_dict[word] == False:\n",
    "                    tracker_dict[word] = True\n",
    "                else:\n",
    "                    #print(word, i)\n",
    "                    remove=True\n",
    "        if remove:\n",
    "            remove_list.append(i)\n",
    "\n",
    "    for i in remove_list:\n",
    "        k.remove(i)\n",
    "    top_5 = k[:5]\n",
    "    ## simplification\n",
    "    \n",
    "    return top_5\n",
    "\n",
    "\n",
    "\n",
    "df['keywords'] = df.apply(lambda x: keyword_creation(x.transcripts, x.summary), axis=1)"
   ]
  },
  {
   "cell_type": "code",
   "execution_count": 17,
   "metadata": {},
   "outputs": [
    {
     "data": {
      "text/html": [
       "<div>\n",
       "<style scoped>\n",
       "    .dataframe tbody tr th:only-of-type {\n",
       "        vertical-align: middle;\n",
       "    }\n",
       "\n",
       "    .dataframe tbody tr th {\n",
       "        vertical-align: top;\n",
       "    }\n",
       "\n",
       "    .dataframe thead th {\n",
       "        text-align: right;\n",
       "    }\n",
       "</style>\n",
       "<table border=\"1\" class=\"dataframe\">\n",
       "  <thead>\n",
       "    <tr style=\"text-align: right;\">\n",
       "      <th></th>\n",
       "      <th>course_id</th>\n",
       "      <th>video_title</th>\n",
       "      <th>transcripts</th>\n",
       "      <th>length</th>\n",
       "      <th>summary</th>\n",
       "      <th>keywords</th>\n",
       "    </tr>\n",
       "  </thead>\n",
       "  <tbody>\n",
       "    <tr>\n",
       "      <td>0</td>\n",
       "      <td>siads697698</td>\n",
       "      <td>recording-of-elle-o-brien-office-hours-siads-6...</td>\n",
       "      <td>We'll see if anybody is joining us today. What...</td>\n",
       "      <td>20293</td>\n",
       "      <td>Because at first time, I was thinking about us...</td>\n",
       "      <td>[git tutorial today, terminal, analysis script...</td>\n",
       "    </tr>\n",
       "    <tr>\n",
       "      <td>1</td>\n",
       "      <td>siads697698</td>\n",
       "      <td>recording-of-elle-o-brien-office-hours-siads-6...</td>\n",
       "      <td>I'm going to do this, Git log.one line and tha...</td>\n",
       "      <td>20294</td>\n",
       "      <td>In this branch, let's create a new file and ca...</td>\n",
       "      <td>[git log.one line, commits, dvc repository]</td>\n",
       "    </tr>\n",
       "    <tr>\n",
       "      <td>2</td>\n",
       "      <td>siads697698</td>\n",
       "      <td>recording-of-elle-o-brien-office-hours-siads-6...</td>\n",
       "      <td>Well, not sure if anybody is joining this morn...</td>\n",
       "      <td>21840</td>\n",
       "      <td>If that doesn't get you exactly what you want,...</td>\n",
       "      <td>[license file, team meeting, office hour, proj...</td>\n",
       "    </tr>\n",
       "    <tr>\n",
       "      <td>3</td>\n",
       "      <td>siads697698</td>\n",
       "      <td>recording-of-elle-o-brien-office-hours-siads-6...</td>\n",
       "      <td>now. Cool. There's lots of stuff here. Wow, l...</td>\n",
       "      <td>21840</td>\n",
       "      <td>If you're not very comfortable doing terminal ...</td>\n",
       "      <td>[github, make dataset file, folder structure, ...</td>\n",
       "    </tr>\n",
       "    <tr>\n",
       "      <td>4</td>\n",
       "      <td>siads697698</td>\n",
       "      <td>recording-of-elle-o-brien-office-hours-siads-6...</td>\n",
       "      <td>Hello, nice to meet you. &gt;&gt; Nice to meet you t...</td>\n",
       "      <td>24317</td>\n",
       "      <td>&gt;&gt; Yeah, you can do that too, so today, I'm go...</td>\n",
       "      <td>[jupiter notebook experience, gpu, course feed...</td>\n",
       "    </tr>\n",
       "  </tbody>\n",
       "</table>\n",
       "</div>"
      ],
      "text/plain": [
       "     course_id                                        video_title  \\\n",
       "0  siads697698  recording-of-elle-o-brien-office-hours-siads-6...   \n",
       "1  siads697698  recording-of-elle-o-brien-office-hours-siads-6...   \n",
       "2  siads697698  recording-of-elle-o-brien-office-hours-siads-6...   \n",
       "3  siads697698  recording-of-elle-o-brien-office-hours-siads-6...   \n",
       "4  siads697698  recording-of-elle-o-brien-office-hours-siads-6...   \n",
       "\n",
       "                                         transcripts  length  \\\n",
       "0  We'll see if anybody is joining us today. What...   20293   \n",
       "1  I'm going to do this, Git log.one line and tha...   20294   \n",
       "2  Well, not sure if anybody is joining this morn...   21840   \n",
       "3   now. Cool. There's lots of stuff here. Wow, l...   21840   \n",
       "4  Hello, nice to meet you. >> Nice to meet you t...   24317   \n",
       "\n",
       "                                             summary  \\\n",
       "0  Because at first time, I was thinking about us...   \n",
       "1  In this branch, let's create a new file and ca...   \n",
       "2  If that doesn't get you exactly what you want,...   \n",
       "3  If you're not very comfortable doing terminal ...   \n",
       "4  >> Yeah, you can do that too, so today, I'm go...   \n",
       "\n",
       "                                            keywords  \n",
       "0  [git tutorial today, terminal, analysis script...  \n",
       "1        [git log.one line, commits, dvc repository]  \n",
       "2  [license file, team meeting, office hour, proj...  \n",
       "3  [github, make dataset file, folder structure, ...  \n",
       "4  [jupiter notebook experience, gpu, course feed...  "
      ]
     },
     "execution_count": 17,
     "metadata": {},
     "output_type": "execute_result"
    }
   ],
   "source": [
    "df.head()"
   ]
  },
  {
   "cell_type": "markdown",
   "metadata": {},
   "source": [
    "## Save Dataset\n",
    "We save the transcript dataset as a csv file for further analysis."
   ]
  },
  {
   "cell_type": "code",
   "execution_count": 19,
   "metadata": {},
   "outputs": [],
   "source": [
    "df.to_csv(\"./intermediate_data/transcripts_{}_summaries_keywords.csv\".format(course))"
   ]
  },
  {
   "cell_type": "markdown",
   "metadata": {},
   "source": [
    "## Next step\n",
    "After you saved the dataset here, run the next step in the workflow [5-HyperlinkGeneration.ipynb](./5-HyperlinkGeneration.ipynb) or go back to [0-Workflow.ipynb](./0-Workflow.ipynb)."
   ]
  },
  {
   "cell_type": "markdown",
   "metadata": {},
   "source": [
    "---\n",
    "\n",
    "**Authors:** [Wei Zhou](mailto:weiwzhou@umich.edu), [Nick Capaldini](mailto:nickcaps@umich.edu), University of Michigan, August 21, 2022\n",
    "\n",
    "---"
   ]
  },
  {
   "cell_type": "code",
   "execution_count": null,
   "metadata": {},
   "outputs": [],
   "source": []
  }
 ],
 "metadata": {
  "kernelspec": {
   "display_name": "Python 3",
   "language": "python",
   "name": "python3"
  },
  "language_info": {
   "codemirror_mode": {
    "name": "ipython",
    "version": 3
   },
   "file_extension": ".py",
   "mimetype": "text/x-python",
   "name": "python",
   "nbconvert_exporter": "python",
   "pygments_lexer": "ipython3",
   "version": "3.7.4"
  }
 },
 "nbformat": 4,
 "nbformat_minor": 4
}
