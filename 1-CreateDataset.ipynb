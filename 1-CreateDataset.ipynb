{
 "cells": [
  {
   "cell_type": "markdown",
   "metadata": {},
   "source": [
    "# Create Dataset\n",
    "This notebook extracts raw coursera transcript data for our model using coursera-dl. The ultimate goal is to use this to generate hyperlinks and summaries.\n",
    "\n",
    "[Coursera Downloader Documentation](https://github.com/coursera-dl/coursera-dl)"
   ]
  },
  {
   "cell_type": "code",
   "execution_count": 39,
   "metadata": {},
   "outputs": [],
   "source": [
    "from getpass import getpass\n",
    "import regex as re\n",
    "import os"
   ]
  },
  {
   "cell_type": "markdown",
   "metadata": {},
   "source": [
    "## Input Course\n",
    "The course id can be found in the hyperlink for any page in the course."
   ]
  },
  {
   "cell_type": "markdown",
   "metadata": {},
   "source": [
    "\n",
    "<img src=\"course_name.png\" width=\"500\" align=\"left\">"
   ]
  },
  {
   "cell_type": "code",
   "execution_count": 37,
   "metadata": {},
   "outputs": [],
   "source": [
    "url = 'https://www.coursera.org/learn/siads697698/lecture/3vwIb/how-to-do-a-standup'\n",
    "course = re.search('(?<=coursera.org/learn/)(\\w+)', url).group(0)"
   ]
  },
  {
   "cell_type": "markdown",
   "metadata": {},
   "source": [
    "## Load Directory"
   ]
  },
  {
   "cell_type": "code",
   "execution_count": 59,
   "metadata": {},
   "outputs": [
    {
     "name": "stdout",
     "output_type": "stream",
     "text": [
      "Course Already In Directory\n"
     ]
    }
   ],
   "source": [
    "directory = os.listdir('/Users/nicolascap/MADS/Capstone/data')\n",
    "new = True\n",
    "if course in directory:\n",
    "    print(\"Course Already In Directory\")\n",
    "    new = False"
   ]
  },
  {
   "cell_type": "markdown",
   "metadata": {},
   "source": [
    "## Input Credentials\n",
    "[Coursera Downloader Documentation](https://www.youtube.com/watch?v=xpy0H4T9zHU)"
   ]
  },
  {
   "cell_type": "code",
   "execution_count": 57,
   "metadata": {},
   "outputs": [
    {
     "name": "stdout",
     "output_type": "stream",
     "text": [
      "No need to run cell, files already in directory\n"
     ]
    }
   ],
   "source": [
    "if new:\n",
    "    correct = False\n",
    "    password_method = True\n",
    "\n",
    "    while correct == False:\n",
    "        method = input(\"How would you like to log into coursera-dl? (chose password or cauth): \")\n",
    "        if method.lower() in ['cauth', 'password']:\n",
    "            correct=True\n",
    "            if method.lower() == 'cauth':\n",
    "                CAUTH = getpass('CAUTH: ')\n",
    "                password_method = False\n",
    "            else:\n",
    "                user = input('Username: ')\n",
    "                password = getpass('Password: ')\n",
    "        else:\n",
    "            print('\\n***Must answer with password or cauth***\\n')\n",
    "else:\n",
    "    print(\"No need to run cell, files already in directory\")"
   ]
  },
  {
   "cell_type": "markdown",
   "metadata": {},
   "source": [
    "## Download Transcript(s)\n",
    "Transcripts are downloaded to the data folder."
   ]
  },
  {
   "cell_type": "code",
   "execution_count": 58,
   "metadata": {},
   "outputs": [
    {
     "name": "stdout",
     "output_type": "stream",
     "text": [
      "No need to run cell, files already in directory\n"
     ]
    }
   ],
   "source": [
    "if new:\n",
    "    if password_method == False:\n",
    "        !cd data ; coursera-dl -ca {CAUTH} {courses}\n",
    "    else:\n",
    "        !echo {user} {password}\n",
    "        !cd data ; coursera-dl -u {user} -p {password} {courses}\n",
    "else:\n",
    "    print(\"No need to run cell, files already in directory\")"
   ]
  },
  {
   "cell_type": "markdown",
   "metadata": {},
   "source": [
    "## Next step\n",
    "After you downloaded the transcripts here, run the next step in the workflow [2-CleanDataset.ipynb](./2-CleanDataset.ipynb) or go back to [0-Workflow.ipynb](./0-Workflow.ipynb)."
   ]
  },
  {
   "cell_type": "markdown",
   "metadata": {},
   "source": [
    "---\n",
    "\n",
    "**Authors:** [Wei Zhou](mailto:weiwzhou@umich.edu), [Nick Capaldini](mailto:nickcaps@umich.edu), University of Michigan, August 21, 2022\n",
    "\n",
    "---"
   ]
  },
  {
   "cell_type": "code",
   "execution_count": null,
   "metadata": {},
   "outputs": [],
   "source": []
  }
 ],
 "metadata": {
  "kernelspec": {
   "display_name": "Python 3",
   "language": "python",
   "name": "python3"
  },
  "language_info": {
   "codemirror_mode": {
    "name": "ipython",
    "version": 3
   },
   "file_extension": ".py",
   "mimetype": "text/x-python",
   "name": "python",
   "nbconvert_exporter": "python",
   "pygments_lexer": "ipython3",
   "version": "3.7.4"
  }
 },
 "nbformat": 4,
 "nbformat_minor": 4
}
